{
 "cells": [
  {
   "cell_type": "markdown",
   "id": "e6f6b49a",
   "metadata": {},
   "source": [
    "## Topic - Stroke Prediction using Machine Learning"
   ]
  },
  {
   "cell_type": "code",
   "execution_count": 1,
   "id": "14ff2c43",
   "metadata": {},
   "outputs": [],
   "source": [
    "# importing libraries\n",
    "import numpy as np\n",
    "import pandas as pd\n",
    "import seaborn as sns\n",
    "import matplotlib.pyplot as plt\n",
    "from warnings import filterwarnings\n",
    "filterwarnings('ignore')\n",
    "from scipy import stats"
   ]
  },
  {
   "cell_type": "markdown",
   "id": "ca6ed0a0",
   "metadata": {},
   "source": [
    "### 1. Read the dataset and view the first 10 rows of it.\n"
   ]
  },
  {
   "cell_type": "code",
   "execution_count": 2,
   "id": "5b57876d",
   "metadata": {},
   "outputs": [
    {
     "data": {
      "text/html": [
       "<div>\n",
       "<style scoped>\n",
       "    .dataframe tbody tr th:only-of-type {\n",
       "        vertical-align: middle;\n",
       "    }\n",
       "\n",
       "    .dataframe tbody tr th {\n",
       "        vertical-align: top;\n",
       "    }\n",
       "\n",
       "    .dataframe thead th {\n",
       "        text-align: right;\n",
       "    }\n",
       "</style>\n",
       "<table border=\"1\" class=\"dataframe\">\n",
       "  <thead>\n",
       "    <tr style=\"text-align: right;\">\n",
       "      <th></th>\n",
       "      <th>id</th>\n",
       "      <th>gender</th>\n",
       "      <th>age</th>\n",
       "      <th>hypertension</th>\n",
       "      <th>heart_disease</th>\n",
       "      <th>ever_married</th>\n",
       "      <th>work_type</th>\n",
       "      <th>Residence_type</th>\n",
       "      <th>avg_glucose_level</th>\n",
       "      <th>bmi</th>\n",
       "      <th>smoking_status</th>\n",
       "      <th>stroke</th>\n",
       "    </tr>\n",
       "  </thead>\n",
       "  <tbody>\n",
       "    <tr>\n",
       "      <th>0</th>\n",
       "      <td>9046</td>\n",
       "      <td>Male</td>\n",
       "      <td>67.0</td>\n",
       "      <td>0</td>\n",
       "      <td>1</td>\n",
       "      <td>Yes</td>\n",
       "      <td>Private</td>\n",
       "      <td>Urban</td>\n",
       "      <td>228.69</td>\n",
       "      <td>36.6</td>\n",
       "      <td>formerly smoked</td>\n",
       "      <td>1</td>\n",
       "    </tr>\n",
       "    <tr>\n",
       "      <th>1</th>\n",
       "      <td>51676</td>\n",
       "      <td>Female</td>\n",
       "      <td>61.0</td>\n",
       "      <td>0</td>\n",
       "      <td>0</td>\n",
       "      <td>Yes</td>\n",
       "      <td>Self-employed</td>\n",
       "      <td>Rural</td>\n",
       "      <td>202.21</td>\n",
       "      <td>NaN</td>\n",
       "      <td>never smoked</td>\n",
       "      <td>1</td>\n",
       "    </tr>\n",
       "    <tr>\n",
       "      <th>2</th>\n",
       "      <td>31112</td>\n",
       "      <td>Male</td>\n",
       "      <td>80.0</td>\n",
       "      <td>0</td>\n",
       "      <td>1</td>\n",
       "      <td>Yes</td>\n",
       "      <td>Private</td>\n",
       "      <td>Rural</td>\n",
       "      <td>105.92</td>\n",
       "      <td>32.5</td>\n",
       "      <td>never smoked</td>\n",
       "      <td>1</td>\n",
       "    </tr>\n",
       "    <tr>\n",
       "      <th>3</th>\n",
       "      <td>60182</td>\n",
       "      <td>Female</td>\n",
       "      <td>49.0</td>\n",
       "      <td>0</td>\n",
       "      <td>0</td>\n",
       "      <td>Yes</td>\n",
       "      <td>Private</td>\n",
       "      <td>Urban</td>\n",
       "      <td>171.23</td>\n",
       "      <td>34.4</td>\n",
       "      <td>smokes</td>\n",
       "      <td>1</td>\n",
       "    </tr>\n",
       "    <tr>\n",
       "      <th>4</th>\n",
       "      <td>1665</td>\n",
       "      <td>Female</td>\n",
       "      <td>79.0</td>\n",
       "      <td>1</td>\n",
       "      <td>0</td>\n",
       "      <td>Yes</td>\n",
       "      <td>Self-employed</td>\n",
       "      <td>Rural</td>\n",
       "      <td>174.12</td>\n",
       "      <td>24.0</td>\n",
       "      <td>never smoked</td>\n",
       "      <td>1</td>\n",
       "    </tr>\n",
       "    <tr>\n",
       "      <th>5</th>\n",
       "      <td>56669</td>\n",
       "      <td>Male</td>\n",
       "      <td>81.0</td>\n",
       "      <td>0</td>\n",
       "      <td>0</td>\n",
       "      <td>Yes</td>\n",
       "      <td>Private</td>\n",
       "      <td>Urban</td>\n",
       "      <td>186.21</td>\n",
       "      <td>29.0</td>\n",
       "      <td>formerly smoked</td>\n",
       "      <td>1</td>\n",
       "    </tr>\n",
       "    <tr>\n",
       "      <th>6</th>\n",
       "      <td>53882</td>\n",
       "      <td>Male</td>\n",
       "      <td>74.0</td>\n",
       "      <td>1</td>\n",
       "      <td>1</td>\n",
       "      <td>Yes</td>\n",
       "      <td>Private</td>\n",
       "      <td>Rural</td>\n",
       "      <td>70.09</td>\n",
       "      <td>27.4</td>\n",
       "      <td>never smoked</td>\n",
       "      <td>1</td>\n",
       "    </tr>\n",
       "    <tr>\n",
       "      <th>7</th>\n",
       "      <td>10434</td>\n",
       "      <td>Female</td>\n",
       "      <td>69.0</td>\n",
       "      <td>0</td>\n",
       "      <td>0</td>\n",
       "      <td>No</td>\n",
       "      <td>Private</td>\n",
       "      <td>Urban</td>\n",
       "      <td>94.39</td>\n",
       "      <td>22.8</td>\n",
       "      <td>never smoked</td>\n",
       "      <td>1</td>\n",
       "    </tr>\n",
       "    <tr>\n",
       "      <th>8</th>\n",
       "      <td>27419</td>\n",
       "      <td>Female</td>\n",
       "      <td>59.0</td>\n",
       "      <td>0</td>\n",
       "      <td>0</td>\n",
       "      <td>Yes</td>\n",
       "      <td>Private</td>\n",
       "      <td>Rural</td>\n",
       "      <td>76.15</td>\n",
       "      <td>NaN</td>\n",
       "      <td>Unknown</td>\n",
       "      <td>1</td>\n",
       "    </tr>\n",
       "    <tr>\n",
       "      <th>9</th>\n",
       "      <td>60491</td>\n",
       "      <td>Female</td>\n",
       "      <td>78.0</td>\n",
       "      <td>0</td>\n",
       "      <td>0</td>\n",
       "      <td>Yes</td>\n",
       "      <td>Private</td>\n",
       "      <td>Urban</td>\n",
       "      <td>58.57</td>\n",
       "      <td>24.2</td>\n",
       "      <td>Unknown</td>\n",
       "      <td>1</td>\n",
       "    </tr>\n",
       "  </tbody>\n",
       "</table>\n",
       "</div>"
      ],
      "text/plain": [
       "      id  gender   age  hypertension  heart_disease ever_married  \\\n",
       "0   9046    Male  67.0             0              1          Yes   \n",
       "1  51676  Female  61.0             0              0          Yes   \n",
       "2  31112    Male  80.0             0              1          Yes   \n",
       "3  60182  Female  49.0             0              0          Yes   \n",
       "4   1665  Female  79.0             1              0          Yes   \n",
       "5  56669    Male  81.0             0              0          Yes   \n",
       "6  53882    Male  74.0             1              1          Yes   \n",
       "7  10434  Female  69.0             0              0           No   \n",
       "8  27419  Female  59.0             0              0          Yes   \n",
       "9  60491  Female  78.0             0              0          Yes   \n",
       "\n",
       "       work_type Residence_type  avg_glucose_level   bmi   smoking_status  \\\n",
       "0        Private          Urban             228.69  36.6  formerly smoked   \n",
       "1  Self-employed          Rural             202.21   NaN     never smoked   \n",
       "2        Private          Rural             105.92  32.5     never smoked   \n",
       "3        Private          Urban             171.23  34.4           smokes   \n",
       "4  Self-employed          Rural             174.12  24.0     never smoked   \n",
       "5        Private          Urban             186.21  29.0  formerly smoked   \n",
       "6        Private          Rural              70.09  27.4     never smoked   \n",
       "7        Private          Urban              94.39  22.8     never smoked   \n",
       "8        Private          Rural              76.15   NaN          Unknown   \n",
       "9        Private          Urban              58.57  24.2          Unknown   \n",
       "\n",
       "   stroke  \n",
       "0       1  \n",
       "1       1  \n",
       "2       1  \n",
       "3       1  \n",
       "4       1  \n",
       "5       1  \n",
       "6       1  \n",
       "7       1  \n",
       "8       1  \n",
       "9       1  "
      ]
     },
     "execution_count": 2,
     "metadata": {},
     "output_type": "execute_result"
    }
   ],
   "source": [
    "df=pd.read_csv('healthcare-dataset-stroke-data.csv')\n",
    "df.head(10)"
   ]
  },
  {
   "cell_type": "code",
   "execution_count": 3,
   "id": "06809332",
   "metadata": {},
   "outputs": [
    {
     "name": "stdout",
     "output_type": "stream",
     "text": [
      "<class 'pandas.core.frame.DataFrame'>\n",
      "RangeIndex: 5110 entries, 0 to 5109\n",
      "Data columns (total 12 columns):\n",
      " #   Column             Non-Null Count  Dtype  \n",
      "---  ------             --------------  -----  \n",
      " 0   id                 5110 non-null   int64  \n",
      " 1   gender             5110 non-null   object \n",
      " 2   age                5110 non-null   float64\n",
      " 3   hypertension       5110 non-null   int64  \n",
      " 4   heart_disease      5110 non-null   int64  \n",
      " 5   ever_married       5110 non-null   object \n",
      " 6   work_type          5110 non-null   object \n",
      " 7   Residence_type     5110 non-null   object \n",
      " 8   avg_glucose_level  5110 non-null   float64\n",
      " 9   bmi                4909 non-null   float64\n",
      " 10  smoking_status     5110 non-null   object \n",
      " 11  stroke             5110 non-null   int64  \n",
      "dtypes: float64(3), int64(4), object(5)\n",
      "memory usage: 479.2+ KB\n"
     ]
    }
   ],
   "source": [
    "df.info()"
   ]
  },
  {
   "cell_type": "markdown",
   "id": "87523bf7",
   "metadata": {},
   "source": [
    "### 2. Check the shape/dimension of the dataset"
   ]
  },
  {
   "cell_type": "code",
   "execution_count": 4,
   "id": "3b99cdf0",
   "metadata": {},
   "outputs": [
    {
     "data": {
      "text/plain": [
       "(5110, 12)"
      ]
     },
     "execution_count": 4,
     "metadata": {},
     "output_type": "execute_result"
    }
   ],
   "source": [
    "# shape of the data\n",
    "df.shape"
   ]
  },
  {
   "cell_type": "markdown",
   "id": "3b7d214d",
   "metadata": {},
   "source": [
    "### 3. Check for the missing values.Display number of missing values per column"
   ]
  },
  {
   "cell_type": "code",
   "execution_count": 5,
   "id": "50cfc423",
   "metadata": {},
   "outputs": [
    {
     "data": {
      "text/html": [
       "<div>\n",
       "<style scoped>\n",
       "    .dataframe tbody tr th:only-of-type {\n",
       "        vertical-align: middle;\n",
       "    }\n",
       "\n",
       "    .dataframe tbody tr th {\n",
       "        vertical-align: top;\n",
       "    }\n",
       "\n",
       "    .dataframe thead th {\n",
       "        text-align: right;\n",
       "    }\n",
       "</style>\n",
       "<table border=\"1\" class=\"dataframe\">\n",
       "  <thead>\n",
       "    <tr style=\"text-align: right;\">\n",
       "      <th></th>\n",
       "      <th>count</th>\n",
       "      <th>percentage</th>\n",
       "    </tr>\n",
       "  </thead>\n",
       "  <tbody>\n",
       "    <tr>\n",
       "      <th>id</th>\n",
       "      <td>0</td>\n",
       "      <td>0.000000</td>\n",
       "    </tr>\n",
       "    <tr>\n",
       "      <th>gender</th>\n",
       "      <td>0</td>\n",
       "      <td>0.000000</td>\n",
       "    </tr>\n",
       "    <tr>\n",
       "      <th>age</th>\n",
       "      <td>0</td>\n",
       "      <td>0.000000</td>\n",
       "    </tr>\n",
       "    <tr>\n",
       "      <th>hypertension</th>\n",
       "      <td>0</td>\n",
       "      <td>0.000000</td>\n",
       "    </tr>\n",
       "    <tr>\n",
       "      <th>heart_disease</th>\n",
       "      <td>0</td>\n",
       "      <td>0.000000</td>\n",
       "    </tr>\n",
       "    <tr>\n",
       "      <th>ever_married</th>\n",
       "      <td>0</td>\n",
       "      <td>0.000000</td>\n",
       "    </tr>\n",
       "    <tr>\n",
       "      <th>work_type</th>\n",
       "      <td>0</td>\n",
       "      <td>0.000000</td>\n",
       "    </tr>\n",
       "    <tr>\n",
       "      <th>Residence_type</th>\n",
       "      <td>0</td>\n",
       "      <td>0.000000</td>\n",
       "    </tr>\n",
       "    <tr>\n",
       "      <th>avg_glucose_level</th>\n",
       "      <td>0</td>\n",
       "      <td>0.000000</td>\n",
       "    </tr>\n",
       "    <tr>\n",
       "      <th>bmi</th>\n",
       "      <td>201</td>\n",
       "      <td>3.933464</td>\n",
       "    </tr>\n",
       "    <tr>\n",
       "      <th>smoking_status</th>\n",
       "      <td>0</td>\n",
       "      <td>0.000000</td>\n",
       "    </tr>\n",
       "    <tr>\n",
       "      <th>stroke</th>\n",
       "      <td>0</td>\n",
       "      <td>0.000000</td>\n",
       "    </tr>\n",
       "  </tbody>\n",
       "</table>\n",
       "</div>"
      ],
      "text/plain": [
       "                   count  percentage\n",
       "id                     0    0.000000\n",
       "gender                 0    0.000000\n",
       "age                    0    0.000000\n",
       "hypertension           0    0.000000\n",
       "heart_disease          0    0.000000\n",
       "ever_married           0    0.000000\n",
       "work_type              0    0.000000\n",
       "Residence_type         0    0.000000\n",
       "avg_glucose_level      0    0.000000\n",
       "bmi                  201    3.933464\n",
       "smoking_status         0    0.000000\n",
       "stroke                 0    0.000000"
      ]
     },
     "execution_count": 5,
     "metadata": {},
     "output_type": "execute_result"
    }
   ],
   "source": [
    "# missing values per column\n",
    "count=df.isnull().sum()\n",
    "percentage=(df.isnull().sum()/len(df))*100\n",
    "missing_values=pd.concat([count,percentage],axis=1,keys=['count','percentage'])\n",
    "missing_values"
   ]
  },
  {
   "cell_type": "markdown",
   "id": "4989aaa5",
   "metadata": {},
   "source": [
    "### 4. Investigate and predict the missing BMI Value."
   ]
  },
  {
   "cell_type": "code",
   "execution_count": 6,
   "id": "986e2850",
   "metadata": {},
   "outputs": [
    {
     "data": {
      "text/plain": [
       "count    4909.000000\n",
       "mean       28.893237\n",
       "std         7.854067\n",
       "min        10.300000\n",
       "25%        23.500000\n",
       "50%        28.100000\n",
       "75%        33.100000\n",
       "max        97.600000\n",
       "Name: bmi, dtype: float64"
      ]
     },
     "execution_count": 6,
     "metadata": {},
     "output_type": "execute_result"
    }
   ],
   "source": [
    "df['bmi'].describe()"
   ]
  },
  {
   "cell_type": "code",
   "execution_count": 7,
   "id": "304f2f67",
   "metadata": {},
   "outputs": [
    {
     "data": {
      "text/html": [
       "<div>\n",
       "<style scoped>\n",
       "    .dataframe tbody tr th:only-of-type {\n",
       "        vertical-align: middle;\n",
       "    }\n",
       "\n",
       "    .dataframe tbody tr th {\n",
       "        vertical-align: top;\n",
       "    }\n",
       "\n",
       "    .dataframe thead th {\n",
       "        text-align: right;\n",
       "    }\n",
       "</style>\n",
       "<table border=\"1\" class=\"dataframe\">\n",
       "  <thead>\n",
       "    <tr style=\"text-align: right;\">\n",
       "      <th></th>\n",
       "      <th>id</th>\n",
       "      <th>gender</th>\n",
       "      <th>age</th>\n",
       "      <th>hypertension</th>\n",
       "      <th>heart_disease</th>\n",
       "      <th>ever_married</th>\n",
       "      <th>work_type</th>\n",
       "      <th>Residence_type</th>\n",
       "      <th>avg_glucose_level</th>\n",
       "      <th>bmi</th>\n",
       "      <th>smoking_status</th>\n",
       "      <th>stroke</th>\n",
       "    </tr>\n",
       "  </thead>\n",
       "  <tbody>\n",
       "    <tr>\n",
       "      <th>1</th>\n",
       "      <td>51676</td>\n",
       "      <td>Female</td>\n",
       "      <td>61.0</td>\n",
       "      <td>0</td>\n",
       "      <td>0</td>\n",
       "      <td>Yes</td>\n",
       "      <td>Self-employed</td>\n",
       "      <td>Rural</td>\n",
       "      <td>202.21</td>\n",
       "      <td>NaN</td>\n",
       "      <td>never smoked</td>\n",
       "      <td>1</td>\n",
       "    </tr>\n",
       "    <tr>\n",
       "      <th>8</th>\n",
       "      <td>27419</td>\n",
       "      <td>Female</td>\n",
       "      <td>59.0</td>\n",
       "      <td>0</td>\n",
       "      <td>0</td>\n",
       "      <td>Yes</td>\n",
       "      <td>Private</td>\n",
       "      <td>Rural</td>\n",
       "      <td>76.15</td>\n",
       "      <td>NaN</td>\n",
       "      <td>Unknown</td>\n",
       "      <td>1</td>\n",
       "    </tr>\n",
       "    <tr>\n",
       "      <th>13</th>\n",
       "      <td>8213</td>\n",
       "      <td>Male</td>\n",
       "      <td>78.0</td>\n",
       "      <td>0</td>\n",
       "      <td>1</td>\n",
       "      <td>Yes</td>\n",
       "      <td>Private</td>\n",
       "      <td>Urban</td>\n",
       "      <td>219.84</td>\n",
       "      <td>NaN</td>\n",
       "      <td>Unknown</td>\n",
       "      <td>1</td>\n",
       "    </tr>\n",
       "    <tr>\n",
       "      <th>19</th>\n",
       "      <td>25226</td>\n",
       "      <td>Male</td>\n",
       "      <td>57.0</td>\n",
       "      <td>0</td>\n",
       "      <td>1</td>\n",
       "      <td>No</td>\n",
       "      <td>Govt_job</td>\n",
       "      <td>Urban</td>\n",
       "      <td>217.08</td>\n",
       "      <td>NaN</td>\n",
       "      <td>Unknown</td>\n",
       "      <td>1</td>\n",
       "    </tr>\n",
       "    <tr>\n",
       "      <th>27</th>\n",
       "      <td>61843</td>\n",
       "      <td>Male</td>\n",
       "      <td>58.0</td>\n",
       "      <td>0</td>\n",
       "      <td>0</td>\n",
       "      <td>Yes</td>\n",
       "      <td>Private</td>\n",
       "      <td>Rural</td>\n",
       "      <td>189.84</td>\n",
       "      <td>NaN</td>\n",
       "      <td>Unknown</td>\n",
       "      <td>1</td>\n",
       "    </tr>\n",
       "    <tr>\n",
       "      <th>...</th>\n",
       "      <td>...</td>\n",
       "      <td>...</td>\n",
       "      <td>...</td>\n",
       "      <td>...</td>\n",
       "      <td>...</td>\n",
       "      <td>...</td>\n",
       "      <td>...</td>\n",
       "      <td>...</td>\n",
       "      <td>...</td>\n",
       "      <td>...</td>\n",
       "      <td>...</td>\n",
       "      <td>...</td>\n",
       "    </tr>\n",
       "    <tr>\n",
       "      <th>5039</th>\n",
       "      <td>42007</td>\n",
       "      <td>Male</td>\n",
       "      <td>41.0</td>\n",
       "      <td>0</td>\n",
       "      <td>0</td>\n",
       "      <td>No</td>\n",
       "      <td>Private</td>\n",
       "      <td>Rural</td>\n",
       "      <td>70.15</td>\n",
       "      <td>NaN</td>\n",
       "      <td>formerly smoked</td>\n",
       "      <td>0</td>\n",
       "    </tr>\n",
       "    <tr>\n",
       "      <th>5048</th>\n",
       "      <td>28788</td>\n",
       "      <td>Male</td>\n",
       "      <td>40.0</td>\n",
       "      <td>0</td>\n",
       "      <td>0</td>\n",
       "      <td>Yes</td>\n",
       "      <td>Private</td>\n",
       "      <td>Urban</td>\n",
       "      <td>191.15</td>\n",
       "      <td>NaN</td>\n",
       "      <td>smokes</td>\n",
       "      <td>0</td>\n",
       "    </tr>\n",
       "    <tr>\n",
       "      <th>5093</th>\n",
       "      <td>32235</td>\n",
       "      <td>Female</td>\n",
       "      <td>45.0</td>\n",
       "      <td>1</td>\n",
       "      <td>0</td>\n",
       "      <td>Yes</td>\n",
       "      <td>Govt_job</td>\n",
       "      <td>Rural</td>\n",
       "      <td>95.02</td>\n",
       "      <td>NaN</td>\n",
       "      <td>smokes</td>\n",
       "      <td>0</td>\n",
       "    </tr>\n",
       "    <tr>\n",
       "      <th>5099</th>\n",
       "      <td>7293</td>\n",
       "      <td>Male</td>\n",
       "      <td>40.0</td>\n",
       "      <td>0</td>\n",
       "      <td>0</td>\n",
       "      <td>Yes</td>\n",
       "      <td>Private</td>\n",
       "      <td>Rural</td>\n",
       "      <td>83.94</td>\n",
       "      <td>NaN</td>\n",
       "      <td>smokes</td>\n",
       "      <td>0</td>\n",
       "    </tr>\n",
       "    <tr>\n",
       "      <th>5105</th>\n",
       "      <td>18234</td>\n",
       "      <td>Female</td>\n",
       "      <td>80.0</td>\n",
       "      <td>1</td>\n",
       "      <td>0</td>\n",
       "      <td>Yes</td>\n",
       "      <td>Private</td>\n",
       "      <td>Urban</td>\n",
       "      <td>83.75</td>\n",
       "      <td>NaN</td>\n",
       "      <td>never smoked</td>\n",
       "      <td>0</td>\n",
       "    </tr>\n",
       "  </tbody>\n",
       "</table>\n",
       "<p>201 rows × 12 columns</p>\n",
       "</div>"
      ],
      "text/plain": [
       "         id  gender   age  hypertension  heart_disease ever_married  \\\n",
       "1     51676  Female  61.0             0              0          Yes   \n",
       "8     27419  Female  59.0             0              0          Yes   \n",
       "13     8213    Male  78.0             0              1          Yes   \n",
       "19    25226    Male  57.0             0              1           No   \n",
       "27    61843    Male  58.0             0              0          Yes   \n",
       "...     ...     ...   ...           ...            ...          ...   \n",
       "5039  42007    Male  41.0             0              0           No   \n",
       "5048  28788    Male  40.0             0              0          Yes   \n",
       "5093  32235  Female  45.0             1              0          Yes   \n",
       "5099   7293    Male  40.0             0              0          Yes   \n",
       "5105  18234  Female  80.0             1              0          Yes   \n",
       "\n",
       "          work_type Residence_type  avg_glucose_level  bmi   smoking_status  \\\n",
       "1     Self-employed          Rural             202.21  NaN     never smoked   \n",
       "8           Private          Rural              76.15  NaN          Unknown   \n",
       "13          Private          Urban             219.84  NaN          Unknown   \n",
       "19         Govt_job          Urban             217.08  NaN          Unknown   \n",
       "27          Private          Rural             189.84  NaN          Unknown   \n",
       "...             ...            ...                ...  ...              ...   \n",
       "5039        Private          Rural              70.15  NaN  formerly smoked   \n",
       "5048        Private          Urban             191.15  NaN           smokes   \n",
       "5093       Govt_job          Rural              95.02  NaN           smokes   \n",
       "5099        Private          Rural              83.94  NaN           smokes   \n",
       "5105        Private          Urban              83.75  NaN     never smoked   \n",
       "\n",
       "      stroke  \n",
       "1          1  \n",
       "8          1  \n",
       "13         1  \n",
       "19         1  \n",
       "27         1  \n",
       "...      ...  \n",
       "5039       0  \n",
       "5048       0  \n",
       "5093       0  \n",
       "5099       0  \n",
       "5105       0  \n",
       "\n",
       "[201 rows x 12 columns]"
      ]
     },
     "execution_count": 7,
     "metadata": {},
     "output_type": "execute_result"
    }
   ],
   "source": [
    "df[df['bmi'].isnull()]"
   ]
  },
  {
   "cell_type": "code",
   "execution_count": 8,
   "id": "4a60296d",
   "metadata": {},
   "outputs": [
    {
     "name": "stdout",
     "output_type": "stream",
     "text": [
      "The skewness of bmi is  1.0553402052962912\n"
     ]
    },
    {
     "data": {
      "image/png": "[encoded data removed]",
      "text/plain": [
       "<Figure size 432x288 with 1 Axes>"
      ]
     },
     "metadata": {
      "needs_background": "light"
     },
     "output_type": "display_data"
    }
   ],
   "source": [
    "sns.kdeplot(df.bmi)\n",
    "print('The skewness of bmi is ',df.bmi.skew())\n",
    "plt.show()"
   ]
  },
  {
   "cell_type": "code",
   "execution_count": 9,
   "id": "def38283",
   "metadata": {},
   "outputs": [
    {
     "data": {
      "text/plain": [
       "id                   0\n",
       "gender               0\n",
       "age                  0\n",
       "hypertension         0\n",
       "heart_disease        0\n",
       "ever_married         0\n",
       "work_type            0\n",
       "Residence_type       0\n",
       "avg_glucose_level    0\n",
       "bmi                  0\n",
       "smoking_status       0\n",
       "stroke               0\n",
       "dtype: int64"
      ]
     },
     "execution_count": 9,
     "metadata": {},
     "output_type": "execute_result"
    }
   ],
   "source": [
    "# As bmi is right skewed filling null values by median\n",
    "df.bmi=df.bmi.fillna(df['bmi'].median())\n",
    "df.isnull().sum()"
   ]
  },
  {
   "cell_type": "markdown",
   "id": "d6a5ad12",
   "metadata": {},
   "source": [
    "### 5. Check the datatype, number of non null values and name of each variable in the dataset.\n"
   ]
  },
  {
   "cell_type": "code",
   "execution_count": 10,
   "id": "a11e07e7",
   "metadata": {},
   "outputs": [
    {
     "data": {
      "text/plain": [
       "id                     int64\n",
       "gender                object\n",
       "age                  float64\n",
       "hypertension           int64\n",
       "heart_disease          int64\n",
       "ever_married          object\n",
       "work_type             object\n",
       "Residence_type        object\n",
       "avg_glucose_level    float64\n",
       "bmi                  float64\n",
       "smoking_status        object\n",
       "stroke                 int64\n",
       "dtype: object"
      ]
     },
     "execution_count": 10,
     "metadata": {},
     "output_type": "execute_result"
    }
   ],
   "source": [
    "# data types of the variables\n",
    "df.dtypes"
   ]
  },
  {
   "cell_type": "code",
   "execution_count": 11,
   "id": "07836ae7",
   "metadata": {},
   "outputs": [
    {
     "name": "stdout",
     "output_type": "stream",
     "text": [
      "The number of not null values are \n",
      "id                   5110\n",
      "gender               5110\n",
      "age                  5110\n",
      "hypertension         5110\n",
      "heart_disease        5110\n",
      "ever_married         5110\n",
      "work_type            5110\n",
      "Residence_type       5110\n",
      "avg_glucose_level    5110\n",
      "bmi                  5110\n",
      "smoking_status       5110\n",
      "stroke               5110\n",
      "dtype: int64\n"
     ]
    }
   ],
   "source": [
    "# Number of non-null values\n",
    "print(f\"The number of not null values are \\n{df.notnull().sum()}\")"
   ]
  },
  {
   "cell_type": "code",
   "execution_count": 12,
   "id": "26cabf0d",
   "metadata": {},
   "outputs": [
    {
     "data": {
      "text/plain": [
       "Index(['id', 'gender', 'age', 'hypertension', 'heart_disease', 'ever_married',\n",
       "       'work_type', 'Residence_type', 'avg_glucose_level', 'bmi',\n",
       "       'smoking_status', 'stroke'],\n",
       "      dtype='object')"
      ]
     },
     "execution_count": 12,
     "metadata": {},
     "output_type": "execute_result"
    }
   ],
   "source": [
    "# Name of each variable in dataset\n",
    "df.columns"
   ]
  },
  {
   "cell_type": "markdown",
   "id": "053f0aa7",
   "metadata": {},
   "source": [
    "### 6. Check the descriptive statistics of the dataset.\n"
   ]
  },
  {
   "cell_type": "code",
   "execution_count": 13,
   "id": "d15839a5",
   "metadata": {},
   "outputs": [
    {
     "data": {
      "text/html": [
       "<div>\n",
       "<style scoped>\n",
       "    .dataframe tbody tr th:only-of-type {\n",
       "        vertical-align: middle;\n",
       "    }\n",
       "\n",
       "    .dataframe tbody tr th {\n",
       "        vertical-align: top;\n",
       "    }\n",
       "\n",
       "    .dataframe thead th {\n",
       "        text-align: right;\n",
       "    }\n",
       "</style>\n",
       "<table border=\"1\" class=\"dataframe\">\n",
       "  <thead>\n",
       "    <tr style=\"text-align: right;\">\n",
       "      <th></th>\n",
       "      <th>count</th>\n",
       "      <th>mean</th>\n",
       "      <th>std</th>\n",
       "      <th>min</th>\n",
       "      <th>25%</th>\n",
       "      <th>50%</th>\n",
       "      <th>75%</th>\n",
       "      <th>max</th>\n",
       "    </tr>\n",
       "  </thead>\n",
       "  <tbody>\n",
       "    <tr>\n",
       "      <th>id</th>\n",
       "      <td>5110.0</td>\n",
       "      <td>36517.829354</td>\n",
       "      <td>21161.721625</td>\n",
       "      <td>67.00</td>\n",
       "      <td>17741.250</td>\n",
       "      <td>36932.000</td>\n",
       "      <td>54682.00</td>\n",
       "      <td>72940.00</td>\n",
       "    </tr>\n",
       "    <tr>\n",
       "      <th>age</th>\n",
       "      <td>5110.0</td>\n",
       "      <td>43.226614</td>\n",
       "      <td>22.612647</td>\n",
       "      <td>0.08</td>\n",
       "      <td>25.000</td>\n",
       "      <td>45.000</td>\n",
       "      <td>61.00</td>\n",
       "      <td>82.00</td>\n",
       "    </tr>\n",
       "    <tr>\n",
       "      <th>hypertension</th>\n",
       "      <td>5110.0</td>\n",
       "      <td>0.097456</td>\n",
       "      <td>0.296607</td>\n",
       "      <td>0.00</td>\n",
       "      <td>0.000</td>\n",
       "      <td>0.000</td>\n",
       "      <td>0.00</td>\n",
       "      <td>1.00</td>\n",
       "    </tr>\n",
       "    <tr>\n",
       "      <th>heart_disease</th>\n",
       "      <td>5110.0</td>\n",
       "      <td>0.054012</td>\n",
       "      <td>0.226063</td>\n",
       "      <td>0.00</td>\n",
       "      <td>0.000</td>\n",
       "      <td>0.000</td>\n",
       "      <td>0.00</td>\n",
       "      <td>1.00</td>\n",
       "    </tr>\n",
       "    <tr>\n",
       "      <th>avg_glucose_level</th>\n",
       "      <td>5110.0</td>\n",
       "      <td>106.147677</td>\n",
       "      <td>45.283560</td>\n",
       "      <td>55.12</td>\n",
       "      <td>77.245</td>\n",
       "      <td>91.885</td>\n",
       "      <td>114.09</td>\n",
       "      <td>271.74</td>\n",
       "    </tr>\n",
       "    <tr>\n",
       "      <th>bmi</th>\n",
       "      <td>5110.0</td>\n",
       "      <td>28.862035</td>\n",
       "      <td>7.699562</td>\n",
       "      <td>10.30</td>\n",
       "      <td>23.800</td>\n",
       "      <td>28.100</td>\n",
       "      <td>32.80</td>\n",
       "      <td>97.60</td>\n",
       "    </tr>\n",
       "    <tr>\n",
       "      <th>stroke</th>\n",
       "      <td>5110.0</td>\n",
       "      <td>0.048728</td>\n",
       "      <td>0.215320</td>\n",
       "      <td>0.00</td>\n",
       "      <td>0.000</td>\n",
       "      <td>0.000</td>\n",
       "      <td>0.00</td>\n",
       "      <td>1.00</td>\n",
       "    </tr>\n",
       "  </tbody>\n",
       "</table>\n",
       "</div>"
      ],
      "text/plain": [
       "                    count          mean           std    min        25%  \\\n",
       "id                 5110.0  36517.829354  21161.721625  67.00  17741.250   \n",
       "age                5110.0     43.226614     22.612647   0.08     25.000   \n",
       "hypertension       5110.0      0.097456      0.296607   0.00      0.000   \n",
       "heart_disease      5110.0      0.054012      0.226063   0.00      0.000   \n",
       "avg_glucose_level  5110.0    106.147677     45.283560  55.12     77.245   \n",
       "bmi                5110.0     28.862035      7.699562  10.30     23.800   \n",
       "stroke             5110.0      0.048728      0.215320   0.00      0.000   \n",
       "\n",
       "                         50%       75%       max  \n",
       "id                 36932.000  54682.00  72940.00  \n",
       "age                   45.000     61.00     82.00  \n",
       "hypertension           0.000      0.00      1.00  \n",
       "heart_disease          0.000      0.00      1.00  \n",
       "avg_glucose_level     91.885    114.09    271.74  \n",
       "bmi                   28.100     32.80     97.60  \n",
       "stroke                 0.000      0.00      1.00  "
      ]
     },
     "execution_count": 13,
     "metadata": {},
     "output_type": "execute_result"
    }
   ],
   "source": [
    "df.describe().T"
   ]
  },
  {
   "cell_type": "markdown",
   "id": "482c6349",
   "metadata": {},
   "source": [
    "### 7. Visualize the proportion of Stroke samples in the dataset.\n"
   ]
  },
  {
   "cell_type": "code",
   "execution_count": 14,
   "id": "8abaaff4",
   "metadata": {},
   "outputs": [
    {
     "data": {
      "image/png": "[encoded data removed]",
      "text/plain": [
       "<Figure size 432x288 with 1 Axes>"
      ]
     },
     "metadata": {
      "needs_background": "light"
     },
     "output_type": "display_data"
    }
   ],
   "source": [
    "sns.countplot(df.stroke)\n",
    "plt.title('Proportion of Stroke')\n",
    "plt.show()"
   ]
  },
  {
   "cell_type": "code",
   "execution_count": 15,
   "id": "01b873de",
   "metadata": {},
   "outputs": [
    {
     "data": {
      "image/png": "[encoded data removed]",
      "text/plain": [
       "<Figure size 1080x360 with 1 Axes>"
      ]
     },
     "metadata": {},
     "output_type": "display_data"
    }
   ],
   "source": [
    "plt.figure(figsize=(15,5))\n",
    "plt.pie(df.stroke.value_counts(),autopct='%2.2f%%',labels=['yes','no'])\n",
    "plt.show()"
   ]
  },
  {
   "cell_type": "markdown",
   "id": "ff41a28d",
   "metadata": {},
   "source": [
    "The Proportion of Stroke is less as compared to non stroke people in the dataset"
   ]
  },
  {
   "cell_type": "markdown",
   "id": "29266c87",
   "metadata": {},
   "source": [
    "### 8. Visualize the Distribution of Male and Female Ages. Write the Observation.\n"
   ]
  },
  {
   "cell_type": "code",
   "execution_count": 16,
   "id": "dfff08e1",
   "metadata": {},
   "outputs": [
    {
     "data": {
      "image/png": "[encoded data removed]",
      "text/plain": [
       "<Figure size 864x432 with 1 Axes>"
      ]
     },
     "metadata": {
      "needs_background": "light"
     },
     "output_type": "display_data"
    }
   ],
   "source": [
    "plt.figure(figsize=(12,6))\n",
    "plt.title('Distribution of Male and Female Ages')\n",
    "sns.barplot(x=df['gender'],y=df['age'])\n",
    "plt.show()"
   ]
  },
  {
   "cell_type": "markdown",
   "id": "89e89950",
   "metadata": {},
   "source": [
    "we can see that Distribution of Male and Female Ages are neraly equal."
   ]
  },
  {
   "cell_type": "markdown",
   "id": "32a004da",
   "metadata": {},
   "source": [
    "### 9.Visualize the stroke sample based on\n",
    "### a) BMI and Glucose Level"
   ]
  },
  {
   "cell_type": "code",
   "execution_count": 17,
   "id": "4f723ec9",
   "metadata": {},
   "outputs": [
    {
     "data": {
      "image/png": "[encoded data removed]",
      "text/plain": [
       "<Figure size 864x432 with 1 Axes>"
      ]
     },
     "metadata": {
      "needs_background": "light"
     },
     "output_type": "display_data"
    }
   ],
   "source": [
    "plt.figure(figsize=(12,6))\n",
    "sns.scatterplot(df.avg_glucose_level,df.bmi,hue=df.stroke)\n",
    "plt.title('BMI and Glucose Level w.r.t Stroke')\n",
    "plt.show()"
   ]
  },
  {
   "cell_type": "markdown",
   "id": "014f4bad",
   "metadata": {},
   "source": [
    "As avg_glucose_level increases we can see a few people having stroke"
   ]
  },
  {
   "cell_type": "markdown",
   "id": "618135d7",
   "metadata": {},
   "source": [
    "### 10.Visualize the stroke sample based on\n",
    "### b) BMI and Age\n"
   ]
  },
  {
   "cell_type": "code",
   "execution_count": 18,
   "id": "7704800c",
   "metadata": {},
   "outputs": [
    {
     "data": {
      "image/png": "[encoded data removed]",
      "text/plain": [
       "<Figure size 864x432 with 1 Axes>"
      ]
     },
     "metadata": {
      "needs_background": "light"
     },
     "output_type": "display_data"
    }
   ],
   "source": [
    "plt.figure(figsize=(12,6))\n",
    "sns.scatterplot(df.age,df.bmi,hue=df.stroke)\n",
    "plt.title('BMI and Age w.r.t Stroke')\n",
    "plt.show()"
   ]
  },
  {
   "cell_type": "markdown",
   "id": "346974d3",
   "metadata": {},
   "source": [
    "As Age increases we can see a few people having stroke"
   ]
  },
  {
   "cell_type": "markdown",
   "id": "da3775be",
   "metadata": {},
   "source": [
    "### 11. Using the pie chart visualizes the proportion of different smoking categories among the stroke population."
   ]
  },
  {
   "cell_type": "code",
   "execution_count": 19,
   "id": "e5972817",
   "metadata": {},
   "outputs": [
    {
     "data": {
      "image/png": "[encoded data removed]",
      "text/plain": [
       "<Figure size 432x288 with 1 Axes>"
      ]
     },
     "metadata": {},
     "output_type": "display_data"
    }
   ],
   "source": [
    "# stroke population\n",
    "s=df[df['stroke']==1]\n",
    "\n",
    "# visualizing\n",
    "plt.pie(s['smoking_status'].value_counts(),autopct='%.2f%%',labels=['never smoked','formerly smoked','Unknown','smokes'])\n",
    "plt.title('smoking_status of stroke population')\n",
    "plt.show()"
   ]
  },
  {
   "cell_type": "markdown",
   "id": "0d4b321c",
   "metadata": {},
   "source": [
    "From the above pie plot, we see that the data has a high proportion for never smoked."
   ]
  },
  {
   "cell_type": "markdown",
   "id": "f529246c",
   "metadata": {},
   "source": [
    "### 12. Perform hypothesis testing to find the significant variables.\n"
   ]
  },
  {
   "cell_type": "code",
   "execution_count": 20,
   "id": "d43625e1",
   "metadata": {},
   "outputs": [
    {
     "name": "stdout",
     "output_type": "stream",
     "text": [
      "id 0.0\n",
      "age 0.0\n",
      "hypertension 2.4828630276395242e-21\n",
      "heart_disease 0.22637221796027784\n",
      "avg_glucose_level 0.0\n",
      "bmi 0.0\n",
      "The significant_features are\n",
      "  ['id', 'age', 'hypertension', 'avg_glucose_level', 'bmi']\n"
     ]
    }
   ],
   "source": [
    "# Numerical columns\n",
    "num_cols=df.select_dtypes(include=np.number)\n",
    "\n",
    "# hypothesis testing between stroke feature and other numerical features\n",
    "# H0: Both groups have equal mean indicating that they are insignificant.\n",
    "# H1: Both groups do not have equal mean indicating that they are significant.\n",
    "\n",
    "significant_features=[]\n",
    "for i in num_cols:\n",
    "    if i !='stroke':\n",
    "        pvalue=stats.ttest_ind(df[i],df.stroke)[1]\n",
    "        if pvalue<0.05:\n",
    "            print(i,pvalue)\n",
    "            significant_features.append(i)\n",
    "        else:\n",
    "            print(i,pvalue)\n",
    "            \n",
    "print('The significant_features are\\n ',significant_features)"
   ]
  },
  {
   "cell_type": "code",
   "execution_count": 21,
   "id": "4eff3d6b",
   "metadata": {},
   "outputs": [
    {
     "data": {
      "text/html": [
       "<div>\n",
       "<style scoped>\n",
       "    .dataframe tbody tr th:only-of-type {\n",
       "        vertical-align: middle;\n",
       "    }\n",
       "\n",
       "    .dataframe tbody tr th {\n",
       "        vertical-align: top;\n",
       "    }\n",
       "\n",
       "    .dataframe thead th {\n",
       "        text-align: right;\n",
       "    }\n",
       "</style>\n",
       "<table border=\"1\" class=\"dataframe\">\n",
       "  <thead>\n",
       "    <tr style=\"text-align: right;\">\n",
       "      <th></th>\n",
       "      <th>gender</th>\n",
       "      <th>ever_married</th>\n",
       "      <th>work_type</th>\n",
       "      <th>Residence_type</th>\n",
       "      <th>smoking_status</th>\n",
       "    </tr>\n",
       "  </thead>\n",
       "  <tbody>\n",
       "    <tr>\n",
       "      <th>0</th>\n",
       "      <td>Male</td>\n",
       "      <td>Yes</td>\n",
       "      <td>Private</td>\n",
       "      <td>Urban</td>\n",
       "      <td>formerly smoked</td>\n",
       "    </tr>\n",
       "    <tr>\n",
       "      <th>1</th>\n",
       "      <td>Female</td>\n",
       "      <td>Yes</td>\n",
       "      <td>Self-employed</td>\n",
       "      <td>Rural</td>\n",
       "      <td>never smoked</td>\n",
       "    </tr>\n",
       "    <tr>\n",
       "      <th>2</th>\n",
       "      <td>Male</td>\n",
       "      <td>Yes</td>\n",
       "      <td>Private</td>\n",
       "      <td>Rural</td>\n",
       "      <td>never smoked</td>\n",
       "    </tr>\n",
       "    <tr>\n",
       "      <th>3</th>\n",
       "      <td>Female</td>\n",
       "      <td>Yes</td>\n",
       "      <td>Private</td>\n",
       "      <td>Urban</td>\n",
       "      <td>smokes</td>\n",
       "    </tr>\n",
       "    <tr>\n",
       "      <th>4</th>\n",
       "      <td>Female</td>\n",
       "      <td>Yes</td>\n",
       "      <td>Self-employed</td>\n",
       "      <td>Rural</td>\n",
       "      <td>never smoked</td>\n",
       "    </tr>\n",
       "    <tr>\n",
       "      <th>...</th>\n",
       "      <td>...</td>\n",
       "      <td>...</td>\n",
       "      <td>...</td>\n",
       "      <td>...</td>\n",
       "      <td>...</td>\n",
       "    </tr>\n",
       "    <tr>\n",
       "      <th>5105</th>\n",
       "      <td>Female</td>\n",
       "      <td>Yes</td>\n",
       "      <td>Private</td>\n",
       "      <td>Urban</td>\n",
       "      <td>never smoked</td>\n",
       "    </tr>\n",
       "    <tr>\n",
       "      <th>5106</th>\n",
       "      <td>Female</td>\n",
       "      <td>Yes</td>\n",
       "      <td>Self-employed</td>\n",
       "      <td>Urban</td>\n",
       "      <td>never smoked</td>\n",
       "    </tr>\n",
       "    <tr>\n",
       "      <th>5107</th>\n",
       "      <td>Female</td>\n",
       "      <td>Yes</td>\n",
       "      <td>Self-employed</td>\n",
       "      <td>Rural</td>\n",
       "      <td>never smoked</td>\n",
       "    </tr>\n",
       "    <tr>\n",
       "      <th>5108</th>\n",
       "      <td>Male</td>\n",
       "      <td>Yes</td>\n",
       "      <td>Private</td>\n",
       "      <td>Rural</td>\n",
       "      <td>formerly smoked</td>\n",
       "    </tr>\n",
       "    <tr>\n",
       "      <th>5109</th>\n",
       "      <td>Female</td>\n",
       "      <td>Yes</td>\n",
       "      <td>Govt_job</td>\n",
       "      <td>Urban</td>\n",
       "      <td>Unknown</td>\n",
       "    </tr>\n",
       "  </tbody>\n",
       "</table>\n",
       "<p>5110 rows × 5 columns</p>\n",
       "</div>"
      ],
      "text/plain": [
       "      gender ever_married      work_type Residence_type   smoking_status\n",
       "0       Male          Yes        Private          Urban  formerly smoked\n",
       "1     Female          Yes  Self-employed          Rural     never smoked\n",
       "2       Male          Yes        Private          Rural     never smoked\n",
       "3     Female          Yes        Private          Urban           smokes\n",
       "4     Female          Yes  Self-employed          Rural     never smoked\n",
       "...      ...          ...            ...            ...              ...\n",
       "5105  Female          Yes        Private          Urban     never smoked\n",
       "5106  Female          Yes  Self-employed          Urban     never smoked\n",
       "5107  Female          Yes  Self-employed          Rural     never smoked\n",
       "5108    Male          Yes        Private          Rural  formerly smoked\n",
       "5109  Female          Yes       Govt_job          Urban          Unknown\n",
       "\n",
       "[5110 rows x 5 columns]"
      ]
     },
     "execution_count": 21,
     "metadata": {},
     "output_type": "execute_result"
    }
   ],
   "source": [
    "# categorical column\n",
    "cat_cols=df.select_dtypes(exclude=np.number)\n",
    "cat_cols"
   ]
  },
  {
   "cell_type": "code",
   "execution_count": 22,
   "id": "78a01076",
   "metadata": {},
   "outputs": [
    {
     "ename": "AttributeError",
     "evalue": "module 'statsmodels.formula.api' has no attribute 'stats'",
     "output_type": "error",
     "traceback": [
      "\u001b[1;31m---------------------------------------------------------------------------\u001b[0m",
      "\u001b[1;31mAttributeError\u001b[0m                            Traceback (most recent call last)",
      "Input \u001b[1;32mIn [22]\u001b[0m, in \u001b[0;36m<cell line: 4>\u001b[1;34m()\u001b[0m\n\u001b[0;32m      2\u001b[0m \u001b[38;5;28;01mimport\u001b[39;00m \u001b[38;5;21;01mstatsmodels\u001b[39;00m\u001b[38;5;21;01m.\u001b[39;00m\u001b[38;5;21;01mformula\u001b[39;00m\u001b[38;5;21;01m.\u001b[39;00m\u001b[38;5;21;01mapi\u001b[39;00m \u001b[38;5;28;01mas\u001b[39;00m \u001b[38;5;21;01msfa\u001b[39;00m\n\u001b[0;32m      3\u001b[0m model\u001b[38;5;241m=\u001b[39msfa\u001b[38;5;241m.\u001b[39mols(\u001b[38;5;124m'\u001b[39m\u001b[38;5;124mstroke~gender\u001b[39m\u001b[38;5;124m'\u001b[39m,data\u001b[38;5;241m=\u001b[39mdf)\u001b[38;5;241m.\u001b[39mfit()\n\u001b[1;32m----> 4\u001b[0m aov_table\u001b[38;5;241m=\u001b[39m\u001b[43msfa\u001b[49m\u001b[38;5;241;43m.\u001b[39;49m\u001b[43mstats\u001b[49m\u001b[38;5;241m.\u001b[39manova_lm(model)\n\u001b[0;32m      5\u001b[0m aov_table\n",
      "\u001b[1;31mAttributeError\u001b[0m: module 'statsmodels.formula.api' has no attribute 'stats'"
     ]
    }
   ],
   "source": [
    "# doubt\n",
    "import statsmodels.formula.api as sfa\n",
    "model=sfa.ols('stroke~gender',data=df).fit()\n",
    "aov_table=sfa.stats.anova_lm(model)\n",
    "aov_table"
   ]
  },
  {
   "cell_type": "markdown",
   "id": "6a3c79d8",
   "metadata": {},
   "source": [
    "### 13. Drop the unnecessary columns."
   ]
  },
  {
   "cell_type": "code",
   "execution_count": 24,
   "id": "9865f431",
   "metadata": {},
   "outputs": [
    {
     "data": {
      "text/html": [
       "<div>\n",
       "<style scoped>\n",
       "    .dataframe tbody tr th:only-of-type {\n",
       "        vertical-align: middle;\n",
       "    }\n",
       "\n",
       "    .dataframe tbody tr th {\n",
       "        vertical-align: top;\n",
       "    }\n",
       "\n",
       "    .dataframe thead th {\n",
       "        text-align: right;\n",
       "    }\n",
       "</style>\n",
       "<table border=\"1\" class=\"dataframe\">\n",
       "  <thead>\n",
       "    <tr style=\"text-align: right;\">\n",
       "      <th></th>\n",
       "      <th>gender</th>\n",
       "      <th>age</th>\n",
       "      <th>hypertension</th>\n",
       "      <th>heart_disease</th>\n",
       "      <th>ever_married</th>\n",
       "      <th>work_type</th>\n",
       "      <th>Residence_type</th>\n",
       "      <th>avg_glucose_level</th>\n",
       "      <th>bmi</th>\n",
       "      <th>smoking_status</th>\n",
       "      <th>stroke</th>\n",
       "    </tr>\n",
       "  </thead>\n",
       "  <tbody>\n",
       "    <tr>\n",
       "      <th>0</th>\n",
       "      <td>Male</td>\n",
       "      <td>67.0</td>\n",
       "      <td>0</td>\n",
       "      <td>1</td>\n",
       "      <td>Yes</td>\n",
       "      <td>Private</td>\n",
       "      <td>Urban</td>\n",
       "      <td>228.69</td>\n",
       "      <td>36.6</td>\n",
       "      <td>formerly smoked</td>\n",
       "      <td>1</td>\n",
       "    </tr>\n",
       "    <tr>\n",
       "      <th>1</th>\n",
       "      <td>Female</td>\n",
       "      <td>61.0</td>\n",
       "      <td>0</td>\n",
       "      <td>0</td>\n",
       "      <td>Yes</td>\n",
       "      <td>Self-employed</td>\n",
       "      <td>Rural</td>\n",
       "      <td>202.21</td>\n",
       "      <td>28.1</td>\n",
       "      <td>never smoked</td>\n",
       "      <td>1</td>\n",
       "    </tr>\n",
       "    <tr>\n",
       "      <th>2</th>\n",
       "      <td>Male</td>\n",
       "      <td>80.0</td>\n",
       "      <td>0</td>\n",
       "      <td>1</td>\n",
       "      <td>Yes</td>\n",
       "      <td>Private</td>\n",
       "      <td>Rural</td>\n",
       "      <td>105.92</td>\n",
       "      <td>32.5</td>\n",
       "      <td>never smoked</td>\n",
       "      <td>1</td>\n",
       "    </tr>\n",
       "    <tr>\n",
       "      <th>3</th>\n",
       "      <td>Female</td>\n",
       "      <td>49.0</td>\n",
       "      <td>0</td>\n",
       "      <td>0</td>\n",
       "      <td>Yes</td>\n",
       "      <td>Private</td>\n",
       "      <td>Urban</td>\n",
       "      <td>171.23</td>\n",
       "      <td>34.4</td>\n",
       "      <td>smokes</td>\n",
       "      <td>1</td>\n",
       "    </tr>\n",
       "    <tr>\n",
       "      <th>4</th>\n",
       "      <td>Female</td>\n",
       "      <td>79.0</td>\n",
       "      <td>1</td>\n",
       "      <td>0</td>\n",
       "      <td>Yes</td>\n",
       "      <td>Self-employed</td>\n",
       "      <td>Rural</td>\n",
       "      <td>174.12</td>\n",
       "      <td>24.0</td>\n",
       "      <td>never smoked</td>\n",
       "      <td>1</td>\n",
       "    </tr>\n",
       "  </tbody>\n",
       "</table>\n",
       "</div>"
      ],
      "text/plain": [
       "   gender   age  hypertension  heart_disease ever_married      work_type  \\\n",
       "0    Male  67.0             0              1          Yes        Private   \n",
       "1  Female  61.0             0              0          Yes  Self-employed   \n",
       "2    Male  80.0             0              1          Yes        Private   \n",
       "3  Female  49.0             0              0          Yes        Private   \n",
       "4  Female  79.0             1              0          Yes  Self-employed   \n",
       "\n",
       "  Residence_type  avg_glucose_level   bmi   smoking_status  stroke  \n",
       "0          Urban             228.69  36.6  formerly smoked       1  \n",
       "1          Rural             202.21  28.1     never smoked       1  \n",
       "2          Rural             105.92  32.5     never smoked       1  \n",
       "3          Urban             171.23  34.4           smokes       1  \n",
       "4          Rural             174.12  24.0     never smoked       1  "
      ]
     },
     "execution_count": 24,
     "metadata": {},
     "output_type": "execute_result"
    }
   ],
   "source": [
    "df1=df.drop('id',axis=1)\n",
    "df1.head()"
   ]
  },
  {
   "cell_type": "markdown",
   "id": "11189c92",
   "metadata": {},
   "source": [
    "we drop id drop as it is considered as unnecessary column while model building"
   ]
  },
  {
   "cell_type": "markdown",
   "id": "b0dadd2c",
   "metadata": {},
   "source": [
    "### 14. Write the code to replace following categories columns in integer format as follow –\n",
    "#### a)work_type('Private':0,'Selfemployed':1,'Govt_job':2,'children':1,'Never_worked':-2)\n"
   ]
  },
  {
   "cell_type": "code",
   "execution_count": 25,
   "id": "e97dfc5a",
   "metadata": {},
   "outputs": [],
   "source": [
    "# Encoding work_type variable\n",
    "df1['work_type']=df1['work_type'].replace({'Private':0,'Self-employed':1,'Govt_job':2,'children':1,'Never_worked':-2})"
   ]
  },
  {
   "cell_type": "markdown",
   "id": "65cf163f",
   "metadata": {},
   "source": [
    "#### b) ever_married('Yes': 1, 'No': 0)"
   ]
  },
  {
   "cell_type": "code",
   "execution_count": 26,
   "id": "cfd5690a",
   "metadata": {},
   "outputs": [],
   "source": [
    "# Encoding ever_married variable\n",
    "df1['ever_married']=df1['ever_married'].replace({'Yes': 1, 'No': 0})"
   ]
  },
  {
   "cell_type": "markdown",
   "id": "ad9377c9",
   "metadata": {},
   "source": [
    "####  c) smoking_status('never smoked':0,'Unknown':1,'formerly smoked':2,'smokes':-1)\n"
   ]
  },
  {
   "cell_type": "code",
   "execution_count": 27,
   "id": "25b5b656",
   "metadata": {},
   "outputs": [],
   "source": [
    "# Encoding smoking_status variable\n",
    "df1['smoking_status']=df1['smoking_status'].replace({'never smoked':0,'Unknown':1,'formerly smoked':2,'smokes':-1})"
   ]
  },
  {
   "cell_type": "code",
   "execution_count": 28,
   "id": "980fb2c9",
   "metadata": {},
   "outputs": [],
   "source": [
    "# Encoding gender variable\n",
    "freq=df1.gender.value_counts(normalize=True)\n",
    "df1['gender']=df1['gender'].replace(freq)"
   ]
  },
  {
   "cell_type": "code",
   "execution_count": 29,
   "id": "eb7c9ae0",
   "metadata": {},
   "outputs": [
    {
     "data": {
      "text/html": [
       "<div>\n",
       "<style scoped>\n",
       "    .dataframe tbody tr th:only-of-type {\n",
       "        vertical-align: middle;\n",
       "    }\n",
       "\n",
       "    .dataframe tbody tr th {\n",
       "        vertical-align: top;\n",
       "    }\n",
       "\n",
       "    .dataframe thead th {\n",
       "        text-align: right;\n",
       "    }\n",
       "</style>\n",
       "<table border=\"1\" class=\"dataframe\">\n",
       "  <thead>\n",
       "    <tr style=\"text-align: right;\">\n",
       "      <th></th>\n",
       "      <th>gender</th>\n",
       "      <th>age</th>\n",
       "      <th>hypertension</th>\n",
       "      <th>heart_disease</th>\n",
       "      <th>ever_married</th>\n",
       "      <th>work_type</th>\n",
       "      <th>Residence_type</th>\n",
       "      <th>avg_glucose_level</th>\n",
       "      <th>bmi</th>\n",
       "      <th>smoking_status</th>\n",
       "      <th>stroke</th>\n",
       "    </tr>\n",
       "  </thead>\n",
       "  <tbody>\n",
       "    <tr>\n",
       "      <th>0</th>\n",
       "      <td>0.413894</td>\n",
       "      <td>67.0</td>\n",
       "      <td>0</td>\n",
       "      <td>1</td>\n",
       "      <td>1</td>\n",
       "      <td>0</td>\n",
       "      <td>0</td>\n",
       "      <td>228.69</td>\n",
       "      <td>36.6</td>\n",
       "      <td>2</td>\n",
       "      <td>1</td>\n",
       "    </tr>\n",
       "    <tr>\n",
       "      <th>1</th>\n",
       "      <td>0.585910</td>\n",
       "      <td>61.0</td>\n",
       "      <td>0</td>\n",
       "      <td>0</td>\n",
       "      <td>1</td>\n",
       "      <td>1</td>\n",
       "      <td>1</td>\n",
       "      <td>202.21</td>\n",
       "      <td>28.1</td>\n",
       "      <td>0</td>\n",
       "      <td>1</td>\n",
       "    </tr>\n",
       "  </tbody>\n",
       "</table>\n",
       "</div>"
      ],
      "text/plain": [
       "     gender   age  hypertension  heart_disease  ever_married  work_type  \\\n",
       "0  0.413894  67.0             0              1             1          0   \n",
       "1  0.585910  61.0             0              0             1          1   \n",
       "\n",
       "   Residence_type  avg_glucose_level   bmi  smoking_status  stroke  \n",
       "0               0             228.69  36.6               2       1  \n",
       "1               1             202.21  28.1               0       1  "
      ]
     },
     "execution_count": 29,
     "metadata": {},
     "output_type": "execute_result"
    }
   ],
   "source": [
    "# Encoding Residence_type variable\n",
    "df1['Residence_type']=df1['Residence_type'].replace({'Urban':0,'Rural':1})\n",
    "df1.head(2)"
   ]
  },
  {
   "cell_type": "markdown",
   "id": "e2e93e86",
   "metadata": {},
   "source": [
    "### 15. Check the distribution of 'bmi' and 'stroke' columns in the dataset."
   ]
  },
  {
   "cell_type": "code",
   "execution_count": 30,
   "id": "58b7dcdb",
   "metadata": {},
   "outputs": [
    {
     "name": "stdout",
     "output_type": "stream",
     "text": [
      "The skewness of the bmi column is 1.0881872326442346\n"
     ]
    },
    {
     "data": {
      "image/png": "[encoded data removed]",
      "text/plain": [
       "<Figure size 432x288 with 1 Axes>"
      ]
     },
     "metadata": {
      "needs_background": "light"
     },
     "output_type": "display_data"
    }
   ],
   "source": [
    "# distribution of 'bmi' \n",
    "sns.kdeplot(df1['bmi'])\n",
    "print('The skewness of the bmi column is',df1.bmi.skew())\n",
    "plt.show()"
   ]
  },
  {
   "cell_type": "markdown",
   "id": "effb3f97",
   "metadata": {},
   "source": [
    "The bmi column is right skewed"
   ]
  },
  {
   "cell_type": "code",
   "execution_count": 31,
   "id": "0cef73a5",
   "metadata": {},
   "outputs": [
    {
     "name": "stdout",
     "output_type": "stream",
     "text": [
      "The skewness of the stroke column is 4.193284486071313\n"
     ]
    },
    {
     "data": {
      "image/png": "[encoded data removed]",
      "text/plain": [
       "<Figure size 432x288 with 1 Axes>"
      ]
     },
     "metadata": {
      "needs_background": "light"
     },
     "output_type": "display_data"
    }
   ],
   "source": [
    "# distribution of 'stroke' \n",
    "sns.kdeplot(df1['stroke'])\n",
    "print('The skewness of the stroke column is',df1.stroke.skew())\n",
    "plt.show()"
   ]
  },
  {
   "cell_type": "markdown",
   "id": "32816c5c",
   "metadata": {},
   "source": [
    "The stroke column is highly right skewed"
   ]
  },
  {
   "cell_type": "code",
   "execution_count": 32,
   "id": "61e8f9c5",
   "metadata": {},
   "outputs": [
    {
     "name": "stdout",
     "output_type": "stream",
     "text": [
      "Skewness of BMI of class 0 is 1.095903631197483\n",
      "Skewness of BMI of class 1 is 1.1275651326762677\n"
     ]
    },
    {
     "data": {
      "image/png": "[encoded data removed]",
      "text/plain": [
       "<Figure size 432x288 with 1 Axes>"
      ]
     },
     "metadata": {
      "needs_background": "light"
     },
     "output_type": "display_data"
    }
   ],
   "source": [
    "sns.kdeplot(df1['bmi'],hue=df1['stroke'])\n",
    "print(f\"Skewness of BMI of class 0 is {df1.loc[df1['stroke']==0,'bmi'].skew()}\")\n",
    "print(f\"Skewness of BMI of class 1 is {df1.loc[df1['stroke']==1,'bmi'].skew()}\")"
   ]
  },
  {
   "cell_type": "markdown",
   "id": "ce63c4b2",
   "metadata": {},
   "source": [
    "### 16. List down columns that are highly skewed."
   ]
  },
  {
   "cell_type": "code",
   "execution_count": 33,
   "id": "03794584",
   "metadata": {},
   "outputs": [
    {
     "name": "stdout",
     "output_type": "stream",
     "text": [
      "The highly_skewed columns are\n",
      "  ['hypertension', 'heart_disease', 'ever_married', 'work_type', 'avg_glucose_level', 'bmi', 'stroke']\n"
     ]
    }
   ],
   "source": [
    "highly_skewed=[]\n",
    "for i in df1.columns:\n",
    "    if (df1[i].skew()>0.5) | (df1[i].skew()<-0.5):\n",
    "        highly_skewed.append(i)\n",
    "print('The highly_skewed columns are\\n ',highly_skewed)"
   ]
  },
  {
   "cell_type": "markdown",
   "id": "a9774b0d",
   "metadata": {},
   "source": [
    "### 17. List down the columns that are highly kurtosis."
   ]
  },
  {
   "cell_type": "code",
   "execution_count": 34,
   "id": "e096ae0d",
   "metadata": {},
   "outputs": [
    {
     "name": "stdout",
     "output_type": "stream",
     "text": [
      "The columns with high kurtosis are\n",
      "  ['gender', 'hypertension', 'heart_disease', 'ever_married', 'Residence_type', 'avg_glucose_level', 'bmi', 'stroke']\n"
     ]
    }
   ],
   "source": [
    "highly_kurt=[]\n",
    "for i in df1.columns:\n",
    "    if (df1[i].kurt()>1) | (df1[i].kurt()<-1):\n",
    "        highly_kurt.append(i)\n",
    "print('The columns with high kurtosis are\\n ',highly_kurt)"
   ]
  },
  {
   "cell_type": "markdown",
   "id": "f7078668",
   "metadata": {},
   "source": [
    "### 18. Find the distribution of all variables with respect to the outcome 'stroke' variable.\n"
   ]
  },
  {
   "cell_type": "code",
   "execution_count": 35,
   "id": "f9a7e124",
   "metadata": {},
   "outputs": [
    {
     "data": {
      "image/png": "[encoded data removed]",
      "text/plain": [
       "<Figure size 1080x504 with 10 Axes>"
      ]
     },
     "metadata": {
      "needs_background": "light"
     },
     "output_type": "display_data"
    }
   ],
   "source": [
    "cols=['gender', 'age', 'hypertension', 'heart_disease', 'ever_married',\n",
    "       'work_type', 'Residence_type', 'avg_glucose_level', 'bmi',\n",
    "       'smoking_status']\n",
    "plt.figure(figsize=(15,7))\n",
    "it=1\n",
    "for i in cols:\n",
    "    plt.subplot(4,3,it)\n",
    "    sns.kdeplot(df1[i],hue=df1['stroke'])\n",
    "    it+=1\n",
    "plt.tight_layout()\n",
    "plt.show()"
   ]
  },
  {
   "cell_type": "code",
   "execution_count": 36,
   "id": "cbb5809f",
   "metadata": {},
   "outputs": [
    {
     "data": {
      "image/png": "[encoded data removed]",
      "text/plain": [
       "<Figure size 1080x504 with 10 Axes>"
      ]
     },
     "metadata": {
      "needs_background": "light"
     },
     "output_type": "display_data"
    }
   ],
   "source": [
    "cols=['gender', 'age', 'hypertension', 'heart_disease', 'ever_married',\n",
    "       'work_type', 'Residence_type', 'avg_glucose_level', 'bmi',\n",
    "       'smoking_status']\n",
    "plt.figure(figsize=(15,7))\n",
    "it=1\n",
    "for i in cols:\n",
    "    plt.subplot(4,3,it)\n",
    "    sns.scatterplot(df1[i],df1['stroke'])\n",
    "    it+=1\n",
    "plt.tight_layout()\n",
    "plt.show()"
   ]
  },
  {
   "cell_type": "markdown",
   "id": "53dfc4c9",
   "metadata": {},
   "source": [
    "### 19. Plot the heatmap for correlation matrix for the given dataset. Write the observation. Especially note down columns that are highly correlated (Positive or negative correlation, consider 0.7 to 1 as high)"
   ]
  },
  {
   "cell_type": "code",
   "execution_count": 37,
   "id": "8836ded3",
   "metadata": {},
   "outputs": [
    {
     "data": {
      "image/png": "[encoded data removed]",
      "text/plain": [
       "<Figure size 432x288 with 2 Axes>"
      ]
     },
     "metadata": {
      "needs_background": "light"
     },
     "output_type": "display_data"
    }
   ],
   "source": [
    "sns.heatmap(df.corr(),annot=True)\n",
    "plt.show()"
   ]
  },
  {
   "cell_type": "markdown",
   "id": "48dfb193",
   "metadata": {},
   "source": [
    "**inference**\n",
    "* We can see that there is no high correlation between the variables\n",
    "* The highest correlation found is 0.32 between age and bmi\n",
    "* The next highest correlation found is 0.28 between hypertension and age\n",
    "* id column is highly negatively correlated with all columns\n",
    "* heart_disease and stroke w.r.t bmi are negatively correlated\n"
   ]
  },
  {
   "cell_type": "markdown",
   "id": "ae8e7f6f",
   "metadata": {},
   "source": [
    "### 20. Split the dataset randomly into train and test dataset. Use a train ratio of 70:30 ratio.\n"
   ]
  },
  {
   "cell_type": "code",
   "execution_count": 38,
   "id": "ea05a577",
   "metadata": {},
   "outputs": [
    {
     "name": "stdout",
     "output_type": "stream",
     "text": [
      "(3577, 10)\n",
      "(1533, 10)\n",
      "(3577,)\n",
      "(1533,)\n"
     ]
    }
   ],
   "source": [
    "from sklearn.model_selection import train_test_split\n",
    "x=df1.drop('stroke',axis=1)\n",
    "y=df1.stroke\n",
    "xtrain,xtest,ytrain,ytest=train_test_split(x,y,test_size=0.3,random_state=0)\n",
    "print(xtrain.shape)\n",
    "print(xtest.shape)\n",
    "print(ytrain.shape)\n",
    "print(ytest.shape)"
   ]
  },
  {
   "cell_type": "markdown",
   "id": "02d46620",
   "metadata": {},
   "source": [
    "### 21. Check the dataset is balanced or imbalanced. If it is highly investigated, a different approach to balanced the dataset by using the correct technique."
   ]
  },
  {
   "cell_type": "code",
   "execution_count": 39,
   "id": "758323f4",
   "metadata": {},
   "outputs": [
    {
     "data": {
      "text/plain": [
       "0    95.127202\n",
       "1     4.872798\n",
       "Name: stroke, dtype: float64"
      ]
     },
     "execution_count": 39,
     "metadata": {},
     "output_type": "execute_result"
    }
   ],
   "source": [
    "df.stroke.value_counts(normalize=True)*100"
   ]
  },
  {
   "cell_type": "code",
   "execution_count": 40,
   "id": "63007a26",
   "metadata": {},
   "outputs": [
    {
     "data": {
      "image/png": "[encoded data removed]",
      "text/plain": [
       "<Figure size 432x288 with 1 Axes>"
      ]
     },
     "metadata": {
      "needs_background": "light"
     },
     "output_type": "display_data"
    }
   ],
   "source": [
    "sns.countplot(df.stroke)\n",
    "plt.show()"
   ]
  },
  {
   "cell_type": "markdown",
   "id": "a43ebcd8",
   "metadata": {},
   "source": [
    "Yes,There is imbalance in the data"
   ]
  },
  {
   "cell_type": "code",
   "execution_count": 41,
   "id": "ae589b52",
   "metadata": {
    "scrolled": true
   },
   "outputs": [
    {
     "name": "stdout",
     "output_type": "stream",
     "text": [
      "Before smote  Counter({0: 4861, 1: 249})\n",
      "After SMOTE Counter({0: 4861, 1: 2430})\n"
     ]
    }
   ],
   "source": [
    "from collections import Counter\n",
    "from imblearn.over_sampling import SMOTE\n",
    "print('Before smote ',Counter(y))\n",
    "smote=SMOTE(sampling_strategy=0.5,random_state=0)\n",
    "x_sm,y_sm=smote.fit_resample(x,y)\n",
    "print('After SMOTE', Counter(y_sm))"
   ]
  },
  {
   "cell_type": "code",
   "execution_count": 42,
   "id": "a9b9a726",
   "metadata": {},
   "outputs": [],
   "source": [
    "# Spilting the data after SMOTE\n",
    "xtrain,xtest,ytrain,ytest=train_test_split(x_sm,y_sm,test_size=0.30,random_state=0)"
   ]
  },
  {
   "cell_type": "markdown",
   "id": "692c26b9",
   "metadata": {},
   "source": [
    "### 22. Model Selection/hyperparameter tuning \n",
    "- Try different models and fine tune their performance until you get the desired level of\n",
    "performance on the given dataset.\n",
    " Model Evaluation\n",
    "- Evaluate the models using appropriate evaluation metrics."
   ]
  },
  {
   "cell_type": "markdown",
   "id": "fbd50aac",
   "metadata": {},
   "source": [
    "### Logistics Regression-sklearn"
   ]
  },
  {
   "cell_type": "code",
   "execution_count": 99,
   "id": "1bf1fc09",
   "metadata": {},
   "outputs": [],
   "source": [
    "from sklearn.linear_model import LogisticRegression\n",
    "lr=LogisticRegression()\n",
    "lr_model=lr.fit(xtrain,ytrain)\n",
    "ypred_lr_train=lr_model.predict(xtrain)\n",
    "ypred_lr_test=lr_model.predict(xtest)\n",
    "yprob_lr=lr_model.predict_proba(xtest)[:,1]"
   ]
  },
  {
   "cell_type": "markdown",
   "id": "e944dc18",
   "metadata": {},
   "source": [
    "### Evaluation metrics"
   ]
  },
  {
   "cell_type": "code",
   "execution_count": 100,
   "id": "58dc879c",
   "metadata": {},
   "outputs": [
    {
     "data": {
      "text/html": [
       "<div>\n",
       "<style scoped>\n",
       "    .dataframe tbody tr th:only-of-type {\n",
       "        vertical-align: middle;\n",
       "    }\n",
       "\n",
       "    .dataframe tbody tr th {\n",
       "        vertical-align: top;\n",
       "    }\n",
       "\n",
       "    .dataframe thead th {\n",
       "        text-align: right;\n",
       "    }\n",
       "</style>\n",
       "<table border=\"1\" class=\"dataframe\">\n",
       "  <thead>\n",
       "    <tr style=\"text-align: right;\">\n",
       "      <th></th>\n",
       "      <th>Model_name</th>\n",
       "      <th>Train_accuracy</th>\n",
       "      <th>Test_accuracy</th>\n",
       "      <th>precision</th>\n",
       "      <th>recall</th>\n",
       "      <th>kappa</th>\n",
       "      <th>f1_score</th>\n",
       "      <th>roc_auc_score</th>\n",
       "    </tr>\n",
       "  </thead>\n",
       "  <tbody>\n",
       "    <tr>\n",
       "      <th>0</th>\n",
       "      <td>LogisticRegression</td>\n",
       "      <td>0.805213</td>\n",
       "      <td>0.813528</td>\n",
       "      <td>0.769592</td>\n",
       "      <td>0.652926</td>\n",
       "      <td>0.57118</td>\n",
       "      <td>0.706475</td>\n",
       "      <td>0.885363</td>\n",
       "    </tr>\n",
       "  </tbody>\n",
       "</table>\n",
       "</div>"
      ],
      "text/plain": [
       "           Model_name Train_accuracy Test_accuracy precision    recall  \\\n",
       "0  LogisticRegression       0.805213      0.813528  0.769592  0.652926   \n",
       "\n",
       "     kappa  f1_score roc_auc_score  \n",
       "0  0.57118  0.706475      0.885363  "
      ]
     },
     "execution_count": 100,
     "metadata": {},
     "output_type": "execute_result"
    }
   ],
   "source": [
    "from sklearn.metrics import accuracy_score,precision_score,recall_score,f1_score,cohen_kappa_score,roc_auc_score\n",
    "cols=['Model_name','Train_accuracy','Test_accuracy','precision','recall','kappa','f1_score','roc_auc_score']\n",
    "result=pd.DataFrame(columns=cols)\n",
    "model_stats=pd.Series({'Model_name':'LogisticRegression',\n",
    "              'Train_accuracy':accuracy_score(ytrain,ypred_lr_train),\n",
    "              'Test_accuracy':accuracy_score(ytest,ypred_lr_test),\n",
    "               'precision':precision_score(ytest,ypred_lr_test),\n",
    "                'recall':recall_score(ytest,ypred_lr_test),\n",
    "                 'kappa':cohen_kappa_score(ytest,ypred_lr_test),\n",
    "                'f1_score':f1_score(ytest,ypred_lr_test),\n",
    "              'roc_auc_score':roc_auc_score(ytest,yprob_lr)})\n",
    "result=result.append(model_stats,ignore_index=True)\n",
    "result"
   ]
  },
  {
   "cell_type": "markdown",
   "id": "226ef945",
   "metadata": {},
   "source": [
    "### Decision Tree --Base Model"
   ]
  },
  {
   "cell_type": "code",
   "execution_count": 101,
   "id": "38ce6dd0",
   "metadata": {},
   "outputs": [],
   "source": [
    "from sklearn.tree import DecisionTreeClassifier\n",
    "dt=DecisionTreeClassifier(random_state=0)\n",
    "dt_model=dt.fit(xtrain,ytrain)\n",
    "yred_dt_train=dt_model.predict(xtrain)\n",
    "yred_dt_test=dt_model.predict(xtest)\n",
    "yprob_dt=dt_model.predict_proba(xtest)[:,1]"
   ]
  },
  {
   "cell_type": "code",
   "execution_count": 102,
   "id": "0168cad4",
   "metadata": {},
   "outputs": [
    {
     "data": {
      "text/html": [
       "<div>\n",
       "<style scoped>\n",
       "    .dataframe tbody tr th:only-of-type {\n",
       "        vertical-align: middle;\n",
       "    }\n",
       "\n",
       "    .dataframe tbody tr th {\n",
       "        vertical-align: top;\n",
       "    }\n",
       "\n",
       "    .dataframe thead th {\n",
       "        text-align: right;\n",
       "    }\n",
       "</style>\n",
       "<table border=\"1\" class=\"dataframe\">\n",
       "  <thead>\n",
       "    <tr style=\"text-align: right;\">\n",
       "      <th></th>\n",
       "      <th>Model_name</th>\n",
       "      <th>Train_accuracy</th>\n",
       "      <th>Test_accuracy</th>\n",
       "      <th>precision</th>\n",
       "      <th>recall</th>\n",
       "      <th>kappa</th>\n",
       "      <th>f1_score</th>\n",
       "      <th>roc_auc_score</th>\n",
       "    </tr>\n",
       "  </thead>\n",
       "  <tbody>\n",
       "    <tr>\n",
       "      <th>0</th>\n",
       "      <td>LogisticRegression</td>\n",
       "      <td>0.805213</td>\n",
       "      <td>0.813528</td>\n",
       "      <td>0.769592</td>\n",
       "      <td>0.652926</td>\n",
       "      <td>0.57118</td>\n",
       "      <td>0.706475</td>\n",
       "      <td>0.885363</td>\n",
       "    </tr>\n",
       "    <tr>\n",
       "      <th>1</th>\n",
       "      <td>DecisionTree</td>\n",
       "      <td>1.0</td>\n",
       "      <td>0.90128</td>\n",
       "      <td>0.84715</td>\n",
       "      <td>0.869681</td>\n",
       "      <td>0.782551</td>\n",
       "      <td>0.858268</td>\n",
       "      <td>0.893754</td>\n",
       "    </tr>\n",
       "  </tbody>\n",
       "</table>\n",
       "</div>"
      ],
      "text/plain": [
       "           Model_name Train_accuracy Test_accuracy precision    recall  \\\n",
       "0  LogisticRegression       0.805213      0.813528  0.769592  0.652926   \n",
       "1        DecisionTree            1.0       0.90128   0.84715  0.869681   \n",
       "\n",
       "      kappa  f1_score roc_auc_score  \n",
       "0   0.57118  0.706475      0.885363  \n",
       "1  0.782551  0.858268      0.893754  "
      ]
     },
     "execution_count": 102,
     "metadata": {},
     "output_type": "execute_result"
    }
   ],
   "source": [
    "model_stats=pd.Series({'Model_name':'DecisionTree',\n",
    "              'Train_accuracy':accuracy_score(ytrain,yred_dt_train),\n",
    "              'Test_accuracy':accuracy_score(ytest,yred_dt_test),\n",
    "               'precision':precision_score(ytest,yred_dt_test),\n",
    "                'recall':recall_score(ytest,yred_dt_test),\n",
    "                 'kappa':cohen_kappa_score(ytest,yred_dt_test),\n",
    "                'f1_score':f1_score(ytest,yred_dt_test),\n",
    "              'roc_auc_score':roc_auc_score(ytest,yprob_dt)})\n",
    "result=result.append(model_stats,ignore_index=True)\n",
    "result"
   ]
  },
  {
   "cell_type": "code",
   "execution_count": 103,
   "id": "12859c48",
   "metadata": {},
   "outputs": [],
   "source": [
    "# we can see that the model is performing good and its overfits"
   ]
  },
  {
   "cell_type": "code",
   "execution_count": 104,
   "id": "ad734aed",
   "metadata": {},
   "outputs": [
    {
     "data": {
      "text/plain": [
       "{'criterion': 'entropy', 'max_depth': 7}"
      ]
     },
     "execution_count": 104,
     "metadata": {},
     "output_type": "execute_result"
    }
   ],
   "source": [
    "## Grid Search Cv\n",
    "from sklearn.model_selection import GridSearchCV\n",
    "dt=DecisionTreeClassifier(class_weight='balanced',random_state=0)\n",
    "params=({'criterion':['gini','entropy'],'max_depth':[5,6,7]})\n",
    "grid=GridSearchCV(dt,param_grid=params,cv=5)\n",
    "grid.fit(xtrain,ytrain)\n",
    "grid.best_params_"
   ]
  },
  {
   "cell_type": "markdown",
   "id": "5565407a",
   "metadata": {},
   "source": [
    "### Decision tree model with hyperparameter tuning"
   ]
  },
  {
   "cell_type": "code",
   "execution_count": 105,
   "id": "e5a997ce",
   "metadata": {},
   "outputs": [],
   "source": [
    "dt1=DecisionTreeClassifier(criterion='entropy',max_depth=5)\n",
    "dt1_model=dt1.fit(xtrain,ytrain)\n",
    "ypred_dt1_train=dt1_model.predict(xtrain)\n",
    "ypred_dt1_test=dt1_model.predict(xtest)\n",
    "yprob_dt1=dt1_model.predict_proba(xtest)[:,1]"
   ]
  },
  {
   "cell_type": "code",
   "execution_count": 106,
   "id": "98343ff2",
   "metadata": {},
   "outputs": [
    {
     "data": {
      "text/html": [
       "<div>\n",
       "<style scoped>\n",
       "    .dataframe tbody tr th:only-of-type {\n",
       "        vertical-align: middle;\n",
       "    }\n",
       "\n",
       "    .dataframe tbody tr th {\n",
       "        vertical-align: top;\n",
       "    }\n",
       "\n",
       "    .dataframe thead th {\n",
       "        text-align: right;\n",
       "    }\n",
       "</style>\n",
       "<table border=\"1\" class=\"dataframe\">\n",
       "  <thead>\n",
       "    <tr style=\"text-align: right;\">\n",
       "      <th></th>\n",
       "      <th>Model_name</th>\n",
       "      <th>Train_accuracy</th>\n",
       "      <th>Test_accuracy</th>\n",
       "      <th>precision</th>\n",
       "      <th>recall</th>\n",
       "      <th>kappa</th>\n",
       "      <th>f1_score</th>\n",
       "      <th>roc_auc_score</th>\n",
       "    </tr>\n",
       "  </thead>\n",
       "  <tbody>\n",
       "    <tr>\n",
       "      <th>0</th>\n",
       "      <td>LogisticRegression</td>\n",
       "      <td>0.805213</td>\n",
       "      <td>0.813528</td>\n",
       "      <td>0.769592</td>\n",
       "      <td>0.652926</td>\n",
       "      <td>0.57118</td>\n",
       "      <td>0.706475</td>\n",
       "      <td>0.885363</td>\n",
       "    </tr>\n",
       "    <tr>\n",
       "      <th>1</th>\n",
       "      <td>DecisionTree</td>\n",
       "      <td>1.0</td>\n",
       "      <td>0.90128</td>\n",
       "      <td>0.84715</td>\n",
       "      <td>0.869681</td>\n",
       "      <td>0.782551</td>\n",
       "      <td>0.858268</td>\n",
       "      <td>0.893754</td>\n",
       "    </tr>\n",
       "    <tr>\n",
       "      <th>2</th>\n",
       "      <td>Decision Tree with Gridsearchcv</td>\n",
       "      <td>0.845189</td>\n",
       "      <td>0.835923</td>\n",
       "      <td>0.809449</td>\n",
       "      <td>0.683511</td>\n",
       "      <td>0.622308</td>\n",
       "      <td>0.741168</td>\n",
       "      <td>0.913781</td>\n",
       "    </tr>\n",
       "  </tbody>\n",
       "</table>\n",
       "</div>"
      ],
      "text/plain": [
       "                        Model_name Train_accuracy Test_accuracy precision  \\\n",
       "0               LogisticRegression       0.805213      0.813528  0.769592   \n",
       "1                     DecisionTree            1.0       0.90128   0.84715   \n",
       "2  Decision Tree with Gridsearchcv       0.845189      0.835923  0.809449   \n",
       "\n",
       "     recall     kappa  f1_score roc_auc_score  \n",
       "0  0.652926   0.57118  0.706475      0.885363  \n",
       "1  0.869681  0.782551  0.858268      0.893754  \n",
       "2  0.683511  0.622308  0.741168      0.913781  "
      ]
     },
     "execution_count": 106,
     "metadata": {},
     "output_type": "execute_result"
    }
   ],
   "source": [
    "model_stats=pd.Series({'Model_name':'Decision Tree with Gridsearchcv',\n",
    "              'Train_accuracy':accuracy_score(ytrain,ypred_dt1_train),\n",
    "              'Test_accuracy':accuracy_score(ytest,ypred_dt1_test),\n",
    "               'precision':precision_score(ytest,ypred_dt1_test),\n",
    "                'recall':recall_score(ytest,ypred_dt1_test),\n",
    "                 'kappa':cohen_kappa_score(ytest,ypred_dt1_test),\n",
    "                'f1_score':f1_score(ytest,ypred_dt1_test),\n",
    "              'roc_auc_score':roc_auc_score(ytest,yprob_dt1)})\n",
    "result=result.append(model_stats,ignore_index=True)\n",
    "result"
   ]
  },
  {
   "cell_type": "markdown",
   "id": "5897ddd6",
   "metadata": {},
   "source": [
    "## Random Forest Model"
   ]
  },
  {
   "cell_type": "code",
   "execution_count": 107,
   "id": "151bb194",
   "metadata": {},
   "outputs": [],
   "source": [
    "from sklearn.ensemble import RandomForestClassifier\n",
    "rf=RandomForestClassifier()\n",
    "rf_model=rf.fit(xtrain,ytrain)\n",
    "ypred_rf_train=rf_model.predict(xtrain)\n",
    "ypred_rf_test=rf_model.predict(xtest)\n",
    "yprob_rf=rf_model.predict_proba(xtest)[:,1]"
   ]
  },
  {
   "cell_type": "code",
   "execution_count": 108,
   "id": "c2a54ba7",
   "metadata": {},
   "outputs": [
    {
     "data": {
      "text/html": [
       "<div>\n",
       "<style scoped>\n",
       "    .dataframe tbody tr th:only-of-type {\n",
       "        vertical-align: middle;\n",
       "    }\n",
       "\n",
       "    .dataframe tbody tr th {\n",
       "        vertical-align: top;\n",
       "    }\n",
       "\n",
       "    .dataframe thead th {\n",
       "        text-align: right;\n",
       "    }\n",
       "</style>\n",
       "<table border=\"1\" class=\"dataframe\">\n",
       "  <thead>\n",
       "    <tr style=\"text-align: right;\">\n",
       "      <th></th>\n",
       "      <th>Model_name</th>\n",
       "      <th>Train_accuracy</th>\n",
       "      <th>Test_accuracy</th>\n",
       "      <th>precision</th>\n",
       "      <th>recall</th>\n",
       "      <th>kappa</th>\n",
       "      <th>f1_score</th>\n",
       "      <th>roc_auc_score</th>\n",
       "    </tr>\n",
       "  </thead>\n",
       "  <tbody>\n",
       "    <tr>\n",
       "      <th>0</th>\n",
       "      <td>LogisticRegression</td>\n",
       "      <td>0.805213</td>\n",
       "      <td>0.813528</td>\n",
       "      <td>0.769592</td>\n",
       "      <td>0.652926</td>\n",
       "      <td>0.57118</td>\n",
       "      <td>0.706475</td>\n",
       "      <td>0.885363</td>\n",
       "    </tr>\n",
       "    <tr>\n",
       "      <th>1</th>\n",
       "      <td>DecisionTree</td>\n",
       "      <td>1.0</td>\n",
       "      <td>0.90128</td>\n",
       "      <td>0.84715</td>\n",
       "      <td>0.869681</td>\n",
       "      <td>0.782551</td>\n",
       "      <td>0.858268</td>\n",
       "      <td>0.893754</td>\n",
       "    </tr>\n",
       "    <tr>\n",
       "      <th>2</th>\n",
       "      <td>Decision Tree with Gridsearchcv</td>\n",
       "      <td>0.845189</td>\n",
       "      <td>0.835923</td>\n",
       "      <td>0.809449</td>\n",
       "      <td>0.683511</td>\n",
       "      <td>0.622308</td>\n",
       "      <td>0.741168</td>\n",
       "      <td>0.913781</td>\n",
       "    </tr>\n",
       "    <tr>\n",
       "      <th>3</th>\n",
       "      <td>Random Forest</td>\n",
       "      <td>1.0</td>\n",
       "      <td>0.925046</td>\n",
       "      <td>0.922414</td>\n",
       "      <td>0.853723</td>\n",
       "      <td>0.830855</td>\n",
       "      <td>0.88674</td>\n",
       "      <td>0.976776</td>\n",
       "    </tr>\n",
       "  </tbody>\n",
       "</table>\n",
       "</div>"
      ],
      "text/plain": [
       "                        Model_name Train_accuracy Test_accuracy precision  \\\n",
       "0               LogisticRegression       0.805213      0.813528  0.769592   \n",
       "1                     DecisionTree            1.0       0.90128   0.84715   \n",
       "2  Decision Tree with Gridsearchcv       0.845189      0.835923  0.809449   \n",
       "3                   Random Forest             1.0      0.925046  0.922414   \n",
       "\n",
       "     recall     kappa  f1_score roc_auc_score  \n",
       "0  0.652926   0.57118  0.706475      0.885363  \n",
       "1  0.869681  0.782551  0.858268      0.893754  \n",
       "2  0.683511  0.622308  0.741168      0.913781  \n",
       "3  0.853723  0.830855   0.88674      0.976776  "
      ]
     },
     "execution_count": 108,
     "metadata": {},
     "output_type": "execute_result"
    }
   ],
   "source": [
    "model_stats=pd.Series({'Model_name':'Random Forest ',\n",
    "              'Train_accuracy':accuracy_score(ytrain,ypred_rf_train),\n",
    "              'Test_accuracy':accuracy_score(ytest,ypred_rf_test),\n",
    "               'precision':precision_score(ytest,ypred_rf_test),\n",
    "                'recall':recall_score(ytest,ypred_rf_test),\n",
    "                 'kappa':cohen_kappa_score(ytest,ypred_rf_test),\n",
    "                'f1_score':f1_score(ytest,ypred_rf_test),\n",
    "              'roc_auc_score':roc_auc_score(ytest,yprob_rf)})\n",
    "result=result.append(model_stats,ignore_index=True)\n",
    "result"
   ]
  },
  {
   "cell_type": "markdown",
   "id": "da055cb0",
   "metadata": {},
   "source": [
    "## K Nearest Neighbors (KNN)"
   ]
  },
  {
   "cell_type": "code",
   "execution_count": 109,
   "id": "80580d97",
   "metadata": {},
   "outputs": [],
   "source": [
    "from sklearn.neighbors import KNeighborsClassifier\n",
    "kn=KNeighborsClassifier()\n",
    "knn_model=kn.fit(xtrain,ytrain)\n",
    "ypred_knn_train=knn_model.predict(xtrain)\n",
    "ypred_knn_test=knn_model.predict(xtest)\n",
    "yprob_knn=knn_model.predict_proba(xtest)[:,1]"
   ]
  },
  {
   "cell_type": "code",
   "execution_count": 110,
   "id": "3b232ba3",
   "metadata": {},
   "outputs": [
    {
     "data": {
      "text/html": [
       "<div>\n",
       "<style scoped>\n",
       "    .dataframe tbody tr th:only-of-type {\n",
       "        vertical-align: middle;\n",
       "    }\n",
       "\n",
       "    .dataframe tbody tr th {\n",
       "        vertical-align: top;\n",
       "    }\n",
       "\n",
       "    .dataframe thead th {\n",
       "        text-align: right;\n",
       "    }\n",
       "</style>\n",
       "<table border=\"1\" class=\"dataframe\">\n",
       "  <thead>\n",
       "    <tr style=\"text-align: right;\">\n",
       "      <th></th>\n",
       "      <th>Model_name</th>\n",
       "      <th>Train_accuracy</th>\n",
       "      <th>Test_accuracy</th>\n",
       "      <th>precision</th>\n",
       "      <th>recall</th>\n",
       "      <th>kappa</th>\n",
       "      <th>f1_score</th>\n",
       "      <th>roc_auc_score</th>\n",
       "    </tr>\n",
       "  </thead>\n",
       "  <tbody>\n",
       "    <tr>\n",
       "      <th>0</th>\n",
       "      <td>LogisticRegression</td>\n",
       "      <td>0.805213</td>\n",
       "      <td>0.813528</td>\n",
       "      <td>0.769592</td>\n",
       "      <td>0.652926</td>\n",
       "      <td>0.57118</td>\n",
       "      <td>0.706475</td>\n",
       "      <td>0.885363</td>\n",
       "    </tr>\n",
       "    <tr>\n",
       "      <th>1</th>\n",
       "      <td>DecisionTree</td>\n",
       "      <td>1.0</td>\n",
       "      <td>0.90128</td>\n",
       "      <td>0.84715</td>\n",
       "      <td>0.869681</td>\n",
       "      <td>0.782551</td>\n",
       "      <td>0.858268</td>\n",
       "      <td>0.893754</td>\n",
       "    </tr>\n",
       "    <tr>\n",
       "      <th>2</th>\n",
       "      <td>Decision Tree with Gridsearchcv</td>\n",
       "      <td>0.845189</td>\n",
       "      <td>0.835923</td>\n",
       "      <td>0.809449</td>\n",
       "      <td>0.683511</td>\n",
       "      <td>0.622308</td>\n",
       "      <td>0.741168</td>\n",
       "      <td>0.913781</td>\n",
       "    </tr>\n",
       "    <tr>\n",
       "      <th>3</th>\n",
       "      <td>Random Forest</td>\n",
       "      <td>1.0</td>\n",
       "      <td>0.925046</td>\n",
       "      <td>0.922414</td>\n",
       "      <td>0.853723</td>\n",
       "      <td>0.830855</td>\n",
       "      <td>0.88674</td>\n",
       "      <td>0.976776</td>\n",
       "    </tr>\n",
       "    <tr>\n",
       "      <th>4</th>\n",
       "      <td>K Nearest Neighbors</td>\n",
       "      <td>0.908289</td>\n",
       "      <td>0.867459</td>\n",
       "      <td>0.748922</td>\n",
       "      <td>0.924202</td>\n",
       "      <td>0.721717</td>\n",
       "      <td>0.827381</td>\n",
       "      <td>0.942305</td>\n",
       "    </tr>\n",
       "  </tbody>\n",
       "</table>\n",
       "</div>"
      ],
      "text/plain": [
       "                        Model_name Train_accuracy Test_accuracy precision  \\\n",
       "0               LogisticRegression       0.805213      0.813528  0.769592   \n",
       "1                     DecisionTree            1.0       0.90128   0.84715   \n",
       "2  Decision Tree with Gridsearchcv       0.845189      0.835923  0.809449   \n",
       "3                   Random Forest             1.0      0.925046  0.922414   \n",
       "4              K Nearest Neighbors       0.908289      0.867459  0.748922   \n",
       "\n",
       "     recall     kappa  f1_score roc_auc_score  \n",
       "0  0.652926   0.57118  0.706475      0.885363  \n",
       "1  0.869681  0.782551  0.858268      0.893754  \n",
       "2  0.683511  0.622308  0.741168      0.913781  \n",
       "3  0.853723  0.830855   0.88674      0.976776  \n",
       "4  0.924202  0.721717  0.827381      0.942305  "
      ]
     },
     "execution_count": 110,
     "metadata": {},
     "output_type": "execute_result"
    }
   ],
   "source": [
    "model_stats=pd.Series({'Model_name':'K Nearest Neighbors',\n",
    "              'Train_accuracy':accuracy_score(ytrain,ypred_knn_train),\n",
    "              'Test_accuracy':accuracy_score(ytest,ypred_knn_test),\n",
    "               'precision':precision_score(ytest,ypred_knn_test),\n",
    "                'recall':recall_score(ytest,ypred_knn_test),\n",
    "                 'kappa':cohen_kappa_score(ytest,ypred_knn_test),\n",
    "                'f1_score':f1_score(ytest,ypred_knn_test),\n",
    "              'roc_auc_score':roc_auc_score(ytest,yprob_knn)})\n",
    "result=result.append(model_stats,ignore_index=True)\n",
    "result"
   ]
  },
  {
   "cell_type": "markdown",
   "id": "078f12bb",
   "metadata": {},
   "source": [
    "## Naive Bayes Algorithm"
   ]
  },
  {
   "cell_type": "markdown",
   "id": "2a4f30b6",
   "metadata": {},
   "source": [
    "### GaussianNB"
   ]
  },
  {
   "cell_type": "code",
   "execution_count": 111,
   "id": "b62a99bf",
   "metadata": {},
   "outputs": [],
   "source": [
    "from sklearn.naive_bayes import GaussianNB\n",
    "gnb=GaussianNB()\n",
    "gnb_model=gnb.fit(xtrain,ytrain)\n",
    "ypred_gnb_train=gnb.predict(xtrain)\n",
    "ypred_gnb_test=gnb.predict(xtest)\n",
    "yprob_gnb=gnb.predict_proba(xtest)[:,1]"
   ]
  },
  {
   "cell_type": "code",
   "execution_count": 112,
   "id": "abc4daa9",
   "metadata": {},
   "outputs": [
    {
     "data": {
      "text/html": [
       "<div>\n",
       "<style scoped>\n",
       "    .dataframe tbody tr th:only-of-type {\n",
       "        vertical-align: middle;\n",
       "    }\n",
       "\n",
       "    .dataframe tbody tr th {\n",
       "        vertical-align: top;\n",
       "    }\n",
       "\n",
       "    .dataframe thead th {\n",
       "        text-align: right;\n",
       "    }\n",
       "</style>\n",
       "<table border=\"1\" class=\"dataframe\">\n",
       "  <thead>\n",
       "    <tr style=\"text-align: right;\">\n",
       "      <th></th>\n",
       "      <th>Model_name</th>\n",
       "      <th>Train_accuracy</th>\n",
       "      <th>Test_accuracy</th>\n",
       "      <th>precision</th>\n",
       "      <th>recall</th>\n",
       "      <th>kappa</th>\n",
       "      <th>f1_score</th>\n",
       "      <th>roc_auc_score</th>\n",
       "    </tr>\n",
       "  </thead>\n",
       "  <tbody>\n",
       "    <tr>\n",
       "      <th>0</th>\n",
       "      <td>LogisticRegression</td>\n",
       "      <td>0.805213</td>\n",
       "      <td>0.813528</td>\n",
       "      <td>0.769592</td>\n",
       "      <td>0.652926</td>\n",
       "      <td>0.57118</td>\n",
       "      <td>0.706475</td>\n",
       "      <td>0.885363</td>\n",
       "    </tr>\n",
       "    <tr>\n",
       "      <th>1</th>\n",
       "      <td>DecisionTree</td>\n",
       "      <td>1.0</td>\n",
       "      <td>0.90128</td>\n",
       "      <td>0.84715</td>\n",
       "      <td>0.869681</td>\n",
       "      <td>0.782551</td>\n",
       "      <td>0.858268</td>\n",
       "      <td>0.893754</td>\n",
       "    </tr>\n",
       "    <tr>\n",
       "      <th>2</th>\n",
       "      <td>Decision Tree with Gridsearchcv</td>\n",
       "      <td>0.845189</td>\n",
       "      <td>0.835923</td>\n",
       "      <td>0.809449</td>\n",
       "      <td>0.683511</td>\n",
       "      <td>0.622308</td>\n",
       "      <td>0.741168</td>\n",
       "      <td>0.913781</td>\n",
       "    </tr>\n",
       "    <tr>\n",
       "      <th>3</th>\n",
       "      <td>Random Forest</td>\n",
       "      <td>1.0</td>\n",
       "      <td>0.925046</td>\n",
       "      <td>0.922414</td>\n",
       "      <td>0.853723</td>\n",
       "      <td>0.830855</td>\n",
       "      <td>0.88674</td>\n",
       "      <td>0.976776</td>\n",
       "    </tr>\n",
       "    <tr>\n",
       "      <th>4</th>\n",
       "      <td>K Nearest Neighbors</td>\n",
       "      <td>0.908289</td>\n",
       "      <td>0.867459</td>\n",
       "      <td>0.748922</td>\n",
       "      <td>0.924202</td>\n",
       "      <td>0.721717</td>\n",
       "      <td>0.827381</td>\n",
       "      <td>0.942305</td>\n",
       "    </tr>\n",
       "    <tr>\n",
       "      <th>5</th>\n",
       "      <td>GaussianNB</td>\n",
       "      <td>0.785224</td>\n",
       "      <td>0.803931</td>\n",
       "      <td>0.691124</td>\n",
       "      <td>0.776596</td>\n",
       "      <td>0.577822</td>\n",
       "      <td>0.731371</td>\n",
       "      <td>0.871094</td>\n",
       "    </tr>\n",
       "  </tbody>\n",
       "</table>\n",
       "</div>"
      ],
      "text/plain": [
       "                        Model_name Train_accuracy Test_accuracy precision  \\\n",
       "0               LogisticRegression       0.805213      0.813528  0.769592   \n",
       "1                     DecisionTree            1.0       0.90128   0.84715   \n",
       "2  Decision Tree with Gridsearchcv       0.845189      0.835923  0.809449   \n",
       "3                   Random Forest             1.0      0.925046  0.922414   \n",
       "4              K Nearest Neighbors       0.908289      0.867459  0.748922   \n",
       "5                       GaussianNB       0.785224      0.803931  0.691124   \n",
       "\n",
       "     recall     kappa  f1_score roc_auc_score  \n",
       "0  0.652926   0.57118  0.706475      0.885363  \n",
       "1  0.869681  0.782551  0.858268      0.893754  \n",
       "2  0.683511  0.622308  0.741168      0.913781  \n",
       "3  0.853723  0.830855   0.88674      0.976776  \n",
       "4  0.924202  0.721717  0.827381      0.942305  \n",
       "5  0.776596  0.577822  0.731371      0.871094  "
      ]
     },
     "execution_count": 112,
     "metadata": {},
     "output_type": "execute_result"
    }
   ],
   "source": [
    "model_stats=pd.Series({'Model_name':'GaussianNB',\n",
    "              'Train_accuracy':accuracy_score(ytrain,ypred_gnb_train),\n",
    "              'Test_accuracy':accuracy_score(ytest,ypred_gnb_test),\n",
    "               'precision':precision_score(ytest,ypred_gnb_test),\n",
    "                'recall':recall_score(ytest,ypred_gnb_test),\n",
    "                 'kappa':cohen_kappa_score(ytest,ypred_gnb_test),\n",
    "                'f1_score':f1_score(ytest,ypred_gnb_test),\n",
    "              'roc_auc_score':roc_auc_score(ytest,yprob_gnb)})\n",
    "result=result.append(model_stats,ignore_index=True)\n",
    "result"
   ]
  },
  {
   "cell_type": "markdown",
   "id": "88b92abd",
   "metadata": {},
   "source": [
    "### BernoulliNB"
   ]
  },
  {
   "cell_type": "code",
   "execution_count": 113,
   "id": "33a16b6a",
   "metadata": {},
   "outputs": [],
   "source": [
    "from sklearn.naive_bayes import  BernoulliNB\n",
    "bnb=BernoulliNB()\n",
    "bnb_model=bnb.fit(xtrain,ytrain)\n",
    "ypred_bnb_train=bnb_model.predict(xtrain)\n",
    "ypred_bnb_test=bnb_model.predict(xtest)\n",
    "yprob_bnb=bnb_model.predict_proba(xtest)[:,1]"
   ]
  },
  {
   "cell_type": "code",
   "execution_count": 114,
   "id": "e111c1a8",
   "metadata": {},
   "outputs": [
    {
     "data": {
      "text/html": [
       "<div>\n",
       "<style scoped>\n",
       "    .dataframe tbody tr th:only-of-type {\n",
       "        vertical-align: middle;\n",
       "    }\n",
       "\n",
       "    .dataframe tbody tr th {\n",
       "        vertical-align: top;\n",
       "    }\n",
       "\n",
       "    .dataframe thead th {\n",
       "        text-align: right;\n",
       "    }\n",
       "</style>\n",
       "<table border=\"1\" class=\"dataframe\">\n",
       "  <thead>\n",
       "    <tr style=\"text-align: right;\">\n",
       "      <th></th>\n",
       "      <th>Model_name</th>\n",
       "      <th>Train_accuracy</th>\n",
       "      <th>Test_accuracy</th>\n",
       "      <th>precision</th>\n",
       "      <th>recall</th>\n",
       "      <th>kappa</th>\n",
       "      <th>f1_score</th>\n",
       "      <th>roc_auc_score</th>\n",
       "    </tr>\n",
       "  </thead>\n",
       "  <tbody>\n",
       "    <tr>\n",
       "      <th>0</th>\n",
       "      <td>LogisticRegression</td>\n",
       "      <td>0.805213</td>\n",
       "      <td>0.813528</td>\n",
       "      <td>0.769592</td>\n",
       "      <td>0.652926</td>\n",
       "      <td>0.57118</td>\n",
       "      <td>0.706475</td>\n",
       "      <td>0.885363</td>\n",
       "    </tr>\n",
       "    <tr>\n",
       "      <th>1</th>\n",
       "      <td>DecisionTree</td>\n",
       "      <td>1.0</td>\n",
       "      <td>0.90128</td>\n",
       "      <td>0.84715</td>\n",
       "      <td>0.869681</td>\n",
       "      <td>0.782551</td>\n",
       "      <td>0.858268</td>\n",
       "      <td>0.893754</td>\n",
       "    </tr>\n",
       "    <tr>\n",
       "      <th>2</th>\n",
       "      <td>Decision Tree with Gridsearchcv</td>\n",
       "      <td>0.845189</td>\n",
       "      <td>0.835923</td>\n",
       "      <td>0.809449</td>\n",
       "      <td>0.683511</td>\n",
       "      <td>0.622308</td>\n",
       "      <td>0.741168</td>\n",
       "      <td>0.913781</td>\n",
       "    </tr>\n",
       "    <tr>\n",
       "      <th>3</th>\n",
       "      <td>Random Forest</td>\n",
       "      <td>1.0</td>\n",
       "      <td>0.925046</td>\n",
       "      <td>0.922414</td>\n",
       "      <td>0.853723</td>\n",
       "      <td>0.830855</td>\n",
       "      <td>0.88674</td>\n",
       "      <td>0.976776</td>\n",
       "    </tr>\n",
       "    <tr>\n",
       "      <th>4</th>\n",
       "      <td>K Nearest Neighbors</td>\n",
       "      <td>0.908289</td>\n",
       "      <td>0.867459</td>\n",
       "      <td>0.748922</td>\n",
       "      <td>0.924202</td>\n",
       "      <td>0.721717</td>\n",
       "      <td>0.827381</td>\n",
       "      <td>0.942305</td>\n",
       "    </tr>\n",
       "    <tr>\n",
       "      <th>5</th>\n",
       "      <td>GaussianNB</td>\n",
       "      <td>0.785224</td>\n",
       "      <td>0.803931</td>\n",
       "      <td>0.691124</td>\n",
       "      <td>0.776596</td>\n",
       "      <td>0.577822</td>\n",
       "      <td>0.731371</td>\n",
       "      <td>0.871094</td>\n",
       "    </tr>\n",
       "    <tr>\n",
       "      <th>6</th>\n",
       "      <td>BernoulliNB</td>\n",
       "      <td>0.675877</td>\n",
       "      <td>0.668647</td>\n",
       "      <td>0.535433</td>\n",
       "      <td>0.271277</td>\n",
       "      <td>0.167725</td>\n",
       "      <td>0.360106</td>\n",
       "      <td>0.695016</td>\n",
       "    </tr>\n",
       "  </tbody>\n",
       "</table>\n",
       "</div>"
      ],
      "text/plain": [
       "                        Model_name Train_accuracy Test_accuracy precision  \\\n",
       "0               LogisticRegression       0.805213      0.813528  0.769592   \n",
       "1                     DecisionTree            1.0       0.90128   0.84715   \n",
       "2  Decision Tree with Gridsearchcv       0.845189      0.835923  0.809449   \n",
       "3                   Random Forest             1.0      0.925046  0.922414   \n",
       "4              K Nearest Neighbors       0.908289      0.867459  0.748922   \n",
       "5                       GaussianNB       0.785224      0.803931  0.691124   \n",
       "6                      BernoulliNB       0.675877      0.668647  0.535433   \n",
       "\n",
       "     recall     kappa  f1_score roc_auc_score  \n",
       "0  0.652926   0.57118  0.706475      0.885363  \n",
       "1  0.869681  0.782551  0.858268      0.893754  \n",
       "2  0.683511  0.622308  0.741168      0.913781  \n",
       "3  0.853723  0.830855   0.88674      0.976776  \n",
       "4  0.924202  0.721717  0.827381      0.942305  \n",
       "5  0.776596  0.577822  0.731371      0.871094  \n",
       "6  0.271277  0.167725  0.360106      0.695016  "
      ]
     },
     "execution_count": 114,
     "metadata": {},
     "output_type": "execute_result"
    }
   ],
   "source": [
    "model_stats=pd.Series({'Model_name':'BernoulliNB',\n",
    "              'Train_accuracy':accuracy_score(ytrain,ypred_bnb_train),\n",
    "              'Test_accuracy':accuracy_score(ytest,ypred_bnb_test),\n",
    "               'precision':precision_score(ytest,ypred_bnb_test),\n",
    "                'recall':recall_score(ytest,ypred_bnb_test),\n",
    "                 'kappa':cohen_kappa_score(ytest,ypred_bnb_test),\n",
    "                'f1_score':f1_score(ytest,ypred_bnb_test),\n",
    "              'roc_auc_score':roc_auc_score(ytest,yprob_bnb)})\n",
    "result=result.append(model_stats,ignore_index=True)\n",
    "result"
   ]
  },
  {
   "cell_type": "markdown",
   "id": "452449e1",
   "metadata": {},
   "source": [
    "## Bagging Classifier"
   ]
  },
  {
   "cell_type": "code",
   "execution_count": 115,
   "id": "20a6e7e2",
   "metadata": {},
   "outputs": [],
   "source": [
    "from sklearn.ensemble import BaggingClassifier\n",
    "bc=BaggingClassifier()\n",
    "bc_model=bc.fit(xtrain,ytrain)\n",
    "ypred_bc_train=bc_model.predict(xtrain)\n",
    "ypred_bc_test=bc_model.predict(xtest)\n",
    "yprob_bc=bc_model.predict_proba(xtest)[:,1]"
   ]
  },
  {
   "cell_type": "code",
   "execution_count": 116,
   "id": "679a1390",
   "metadata": {},
   "outputs": [
    {
     "data": {
      "text/html": [
       "<div>\n",
       "<style scoped>\n",
       "    .dataframe tbody tr th:only-of-type {\n",
       "        vertical-align: middle;\n",
       "    }\n",
       "\n",
       "    .dataframe tbody tr th {\n",
       "        vertical-align: top;\n",
       "    }\n",
       "\n",
       "    .dataframe thead th {\n",
       "        text-align: right;\n",
       "    }\n",
       "</style>\n",
       "<table border=\"1\" class=\"dataframe\">\n",
       "  <thead>\n",
       "    <tr style=\"text-align: right;\">\n",
       "      <th></th>\n",
       "      <th>Model_name</th>\n",
       "      <th>Train_accuracy</th>\n",
       "      <th>Test_accuracy</th>\n",
       "      <th>precision</th>\n",
       "      <th>recall</th>\n",
       "      <th>kappa</th>\n",
       "      <th>f1_score</th>\n",
       "      <th>roc_auc_score</th>\n",
       "    </tr>\n",
       "  </thead>\n",
       "  <tbody>\n",
       "    <tr>\n",
       "      <th>0</th>\n",
       "      <td>LogisticRegression</td>\n",
       "      <td>0.805213</td>\n",
       "      <td>0.813528</td>\n",
       "      <td>0.769592</td>\n",
       "      <td>0.652926</td>\n",
       "      <td>0.57118</td>\n",
       "      <td>0.706475</td>\n",
       "      <td>0.885363</td>\n",
       "    </tr>\n",
       "    <tr>\n",
       "      <th>1</th>\n",
       "      <td>DecisionTree</td>\n",
       "      <td>1.0</td>\n",
       "      <td>0.90128</td>\n",
       "      <td>0.84715</td>\n",
       "      <td>0.869681</td>\n",
       "      <td>0.782551</td>\n",
       "      <td>0.858268</td>\n",
       "      <td>0.893754</td>\n",
       "    </tr>\n",
       "    <tr>\n",
       "      <th>2</th>\n",
       "      <td>Decision Tree with Gridsearchcv</td>\n",
       "      <td>0.845189</td>\n",
       "      <td>0.835923</td>\n",
       "      <td>0.809449</td>\n",
       "      <td>0.683511</td>\n",
       "      <td>0.622308</td>\n",
       "      <td>0.741168</td>\n",
       "      <td>0.913781</td>\n",
       "    </tr>\n",
       "    <tr>\n",
       "      <th>3</th>\n",
       "      <td>Random Forest</td>\n",
       "      <td>1.0</td>\n",
       "      <td>0.925046</td>\n",
       "      <td>0.922414</td>\n",
       "      <td>0.853723</td>\n",
       "      <td>0.830855</td>\n",
       "      <td>0.88674</td>\n",
       "      <td>0.976776</td>\n",
       "    </tr>\n",
       "    <tr>\n",
       "      <th>4</th>\n",
       "      <td>K Nearest Neighbors</td>\n",
       "      <td>0.908289</td>\n",
       "      <td>0.867459</td>\n",
       "      <td>0.748922</td>\n",
       "      <td>0.924202</td>\n",
       "      <td>0.721717</td>\n",
       "      <td>0.827381</td>\n",
       "      <td>0.942305</td>\n",
       "    </tr>\n",
       "    <tr>\n",
       "      <th>5</th>\n",
       "      <td>GaussianNB</td>\n",
       "      <td>0.785224</td>\n",
       "      <td>0.803931</td>\n",
       "      <td>0.691124</td>\n",
       "      <td>0.776596</td>\n",
       "      <td>0.577822</td>\n",
       "      <td>0.731371</td>\n",
       "      <td>0.871094</td>\n",
       "    </tr>\n",
       "    <tr>\n",
       "      <th>6</th>\n",
       "      <td>BernoulliNB</td>\n",
       "      <td>0.675877</td>\n",
       "      <td>0.668647</td>\n",
       "      <td>0.535433</td>\n",
       "      <td>0.271277</td>\n",
       "      <td>0.167725</td>\n",
       "      <td>0.360106</td>\n",
       "      <td>0.695016</td>\n",
       "    </tr>\n",
       "    <tr>\n",
       "      <th>7</th>\n",
       "      <td>Bagging Classifier</td>\n",
       "      <td>0.994905</td>\n",
       "      <td>0.922303</td>\n",
       "      <td>0.929204</td>\n",
       "      <td>0.837766</td>\n",
       "      <td>0.823643</td>\n",
       "      <td>0.881119</td>\n",
       "      <td>0.962014</td>\n",
       "    </tr>\n",
       "  </tbody>\n",
       "</table>\n",
       "</div>"
      ],
      "text/plain": [
       "                        Model_name Train_accuracy Test_accuracy precision  \\\n",
       "0               LogisticRegression       0.805213      0.813528  0.769592   \n",
       "1                     DecisionTree            1.0       0.90128   0.84715   \n",
       "2  Decision Tree with Gridsearchcv       0.845189      0.835923  0.809449   \n",
       "3                   Random Forest             1.0      0.925046  0.922414   \n",
       "4              K Nearest Neighbors       0.908289      0.867459  0.748922   \n",
       "5                       GaussianNB       0.785224      0.803931  0.691124   \n",
       "6                      BernoulliNB       0.675877      0.668647  0.535433   \n",
       "7               Bagging Classifier       0.994905      0.922303  0.929204   \n",
       "\n",
       "     recall     kappa  f1_score roc_auc_score  \n",
       "0  0.652926   0.57118  0.706475      0.885363  \n",
       "1  0.869681  0.782551  0.858268      0.893754  \n",
       "2  0.683511  0.622308  0.741168      0.913781  \n",
       "3  0.853723  0.830855   0.88674      0.976776  \n",
       "4  0.924202  0.721717  0.827381      0.942305  \n",
       "5  0.776596  0.577822  0.731371      0.871094  \n",
       "6  0.271277  0.167725  0.360106      0.695016  \n",
       "7  0.837766  0.823643  0.881119      0.962014  "
      ]
     },
     "execution_count": 116,
     "metadata": {},
     "output_type": "execute_result"
    }
   ],
   "source": [
    "model_stats=pd.Series({'Model_name':'Bagging Classifier',\n",
    "              'Train_accuracy':accuracy_score(ytrain,ypred_bc_train),\n",
    "              'Test_accuracy':accuracy_score(ytest,ypred_bc_test),\n",
    "               'precision':precision_score(ytest,ypred_bc_test),\n",
    "                'recall':recall_score(ytest,ypred_bc_test),\n",
    "                 'kappa':cohen_kappa_score(ytest,ypred_bc_test),\n",
    "                'f1_score':f1_score(ytest,ypred_bc_test),\n",
    "              'roc_auc_score':roc_auc_score(ytest,yprob_bc)})\n",
    "result=result.append(model_stats,ignore_index=True)\n",
    "result"
   ]
  },
  {
   "cell_type": "markdown",
   "id": "b3ce5524",
   "metadata": {},
   "source": [
    "# Boosting Methods"
   ]
  },
  {
   "cell_type": "markdown",
   "id": "43b502f1",
   "metadata": {},
   "source": [
    "### AdaBoost"
   ]
  },
  {
   "cell_type": "code",
   "execution_count": 117,
   "id": "b7b0340f",
   "metadata": {},
   "outputs": [],
   "source": [
    "from sklearn.ensemble import AdaBoostClassifier\n",
    "ad=AdaBoostClassifier()\n",
    "ad_model=ad.fit(xtrain,ytrain)\n",
    "ypred_ad_train=ad_model.predict(xtrain)\n",
    "ypred_ad_test=ad_model.predict(xtest)\n",
    "yprob_ad=ad_model.predict_proba(xtest)[:,1]"
   ]
  },
  {
   "cell_type": "code",
   "execution_count": 118,
   "id": "34957a5d",
   "metadata": {},
   "outputs": [
    {
     "data": {
      "text/html": [
       "<div>\n",
       "<style scoped>\n",
       "    .dataframe tbody tr th:only-of-type {\n",
       "        vertical-align: middle;\n",
       "    }\n",
       "\n",
       "    .dataframe tbody tr th {\n",
       "        vertical-align: top;\n",
       "    }\n",
       "\n",
       "    .dataframe thead th {\n",
       "        text-align: right;\n",
       "    }\n",
       "</style>\n",
       "<table border=\"1\" class=\"dataframe\">\n",
       "  <thead>\n",
       "    <tr style=\"text-align: right;\">\n",
       "      <th></th>\n",
       "      <th>Model_name</th>\n",
       "      <th>Train_accuracy</th>\n",
       "      <th>Test_accuracy</th>\n",
       "      <th>precision</th>\n",
       "      <th>recall</th>\n",
       "      <th>kappa</th>\n",
       "      <th>f1_score</th>\n",
       "      <th>roc_auc_score</th>\n",
       "    </tr>\n",
       "  </thead>\n",
       "  <tbody>\n",
       "    <tr>\n",
       "      <th>0</th>\n",
       "      <td>LogisticRegression</td>\n",
       "      <td>0.805213</td>\n",
       "      <td>0.813528</td>\n",
       "      <td>0.769592</td>\n",
       "      <td>0.652926</td>\n",
       "      <td>0.57118</td>\n",
       "      <td>0.706475</td>\n",
       "      <td>0.885363</td>\n",
       "    </tr>\n",
       "    <tr>\n",
       "      <th>1</th>\n",
       "      <td>DecisionTree</td>\n",
       "      <td>1.0</td>\n",
       "      <td>0.90128</td>\n",
       "      <td>0.84715</td>\n",
       "      <td>0.869681</td>\n",
       "      <td>0.782551</td>\n",
       "      <td>0.858268</td>\n",
       "      <td>0.893754</td>\n",
       "    </tr>\n",
       "    <tr>\n",
       "      <th>2</th>\n",
       "      <td>Decision Tree with Gridsearchcv</td>\n",
       "      <td>0.845189</td>\n",
       "      <td>0.835923</td>\n",
       "      <td>0.809449</td>\n",
       "      <td>0.683511</td>\n",
       "      <td>0.622308</td>\n",
       "      <td>0.741168</td>\n",
       "      <td>0.913781</td>\n",
       "    </tr>\n",
       "    <tr>\n",
       "      <th>3</th>\n",
       "      <td>Random Forest</td>\n",
       "      <td>1.0</td>\n",
       "      <td>0.925046</td>\n",
       "      <td>0.922414</td>\n",
       "      <td>0.853723</td>\n",
       "      <td>0.830855</td>\n",
       "      <td>0.88674</td>\n",
       "      <td>0.976776</td>\n",
       "    </tr>\n",
       "    <tr>\n",
       "      <th>4</th>\n",
       "      <td>K Nearest Neighbors</td>\n",
       "      <td>0.908289</td>\n",
       "      <td>0.867459</td>\n",
       "      <td>0.748922</td>\n",
       "      <td>0.924202</td>\n",
       "      <td>0.721717</td>\n",
       "      <td>0.827381</td>\n",
       "      <td>0.942305</td>\n",
       "    </tr>\n",
       "    <tr>\n",
       "      <th>5</th>\n",
       "      <td>GaussianNB</td>\n",
       "      <td>0.785224</td>\n",
       "      <td>0.803931</td>\n",
       "      <td>0.691124</td>\n",
       "      <td>0.776596</td>\n",
       "      <td>0.577822</td>\n",
       "      <td>0.731371</td>\n",
       "      <td>0.871094</td>\n",
       "    </tr>\n",
       "    <tr>\n",
       "      <th>6</th>\n",
       "      <td>BernoulliNB</td>\n",
       "      <td>0.675877</td>\n",
       "      <td>0.668647</td>\n",
       "      <td>0.535433</td>\n",
       "      <td>0.271277</td>\n",
       "      <td>0.167725</td>\n",
       "      <td>0.360106</td>\n",
       "      <td>0.695016</td>\n",
       "    </tr>\n",
       "    <tr>\n",
       "      <th>7</th>\n",
       "      <td>Bagging Classifier</td>\n",
       "      <td>0.994905</td>\n",
       "      <td>0.922303</td>\n",
       "      <td>0.929204</td>\n",
       "      <td>0.837766</td>\n",
       "      <td>0.823643</td>\n",
       "      <td>0.881119</td>\n",
       "      <td>0.962014</td>\n",
       "    </tr>\n",
       "    <tr>\n",
       "      <th>8</th>\n",
       "      <td>AdaBoost</td>\n",
       "      <td>0.870076</td>\n",
       "      <td>0.877971</td>\n",
       "      <td>0.863568</td>\n",
       "      <td>0.765957</td>\n",
       "      <td>0.722024</td>\n",
       "      <td>0.811839</td>\n",
       "      <td>0.943383</td>\n",
       "    </tr>\n",
       "  </tbody>\n",
       "</table>\n",
       "</div>"
      ],
      "text/plain": [
       "                        Model_name Train_accuracy Test_accuracy precision  \\\n",
       "0               LogisticRegression       0.805213      0.813528  0.769592   \n",
       "1                     DecisionTree            1.0       0.90128   0.84715   \n",
       "2  Decision Tree with Gridsearchcv       0.845189      0.835923  0.809449   \n",
       "3                   Random Forest             1.0      0.925046  0.922414   \n",
       "4              K Nearest Neighbors       0.908289      0.867459  0.748922   \n",
       "5                       GaussianNB       0.785224      0.803931  0.691124   \n",
       "6                      BernoulliNB       0.675877      0.668647  0.535433   \n",
       "7               Bagging Classifier       0.994905      0.922303  0.929204   \n",
       "8                         AdaBoost       0.870076      0.877971  0.863568   \n",
       "\n",
       "     recall     kappa  f1_score roc_auc_score  \n",
       "0  0.652926   0.57118  0.706475      0.885363  \n",
       "1  0.869681  0.782551  0.858268      0.893754  \n",
       "2  0.683511  0.622308  0.741168      0.913781  \n",
       "3  0.853723  0.830855   0.88674      0.976776  \n",
       "4  0.924202  0.721717  0.827381      0.942305  \n",
       "5  0.776596  0.577822  0.731371      0.871094  \n",
       "6  0.271277  0.167725  0.360106      0.695016  \n",
       "7  0.837766  0.823643  0.881119      0.962014  \n",
       "8  0.765957  0.722024  0.811839      0.943383  "
      ]
     },
     "execution_count": 118,
     "metadata": {},
     "output_type": "execute_result"
    }
   ],
   "source": [
    "model_stats=pd.Series({'Model_name':'AdaBoost',\n",
    "              'Train_accuracy':accuracy_score(ytrain,ypred_ad_train),\n",
    "              'Test_accuracy':accuracy_score(ytest,ypred_ad_test),\n",
    "               'precision':precision_score(ytest,ypred_ad_test),\n",
    "                'recall':recall_score(ytest,ypred_ad_test),\n",
    "                 'kappa':cohen_kappa_score(ytest,ypred_ad_test),\n",
    "                'f1_score':f1_score(ytest,ypred_ad_test),\n",
    "              'roc_auc_score':roc_auc_score(ytest,yprob_ad)})\n",
    "result=result.append(model_stats,ignore_index=True)\n",
    "result"
   ]
  },
  {
   "cell_type": "markdown",
   "id": "d44aa5f8",
   "metadata": {},
   "source": [
    "## Gradient Boosting"
   ]
  },
  {
   "cell_type": "code",
   "execution_count": 119,
   "id": "b2e41a66",
   "metadata": {},
   "outputs": [],
   "source": [
    "from sklearn.ensemble import GradientBoostingClassifier\n",
    "gb=GradientBoostingClassifier()\n",
    "gb_model=gb.fit(xtrain,ytrain)\n",
    "ypred_gb_train=gb_model.predict(xtrain)\n",
    "ypred_gb_test=gb_model.predict(xtest)\n",
    "yprob_gb=gb_model.predict_proba(xtest)[:,1]"
   ]
  },
  {
   "cell_type": "code",
   "execution_count": 120,
   "id": "c908089a",
   "metadata": {},
   "outputs": [
    {
     "data": {
      "text/html": [
       "<div>\n",
       "<style scoped>\n",
       "    .dataframe tbody tr th:only-of-type {\n",
       "        vertical-align: middle;\n",
       "    }\n",
       "\n",
       "    .dataframe tbody tr th {\n",
       "        vertical-align: top;\n",
       "    }\n",
       "\n",
       "    .dataframe thead th {\n",
       "        text-align: right;\n",
       "    }\n",
       "</style>\n",
       "<table border=\"1\" class=\"dataframe\">\n",
       "  <thead>\n",
       "    <tr style=\"text-align: right;\">\n",
       "      <th></th>\n",
       "      <th>Model_name</th>\n",
       "      <th>Train_accuracy</th>\n",
       "      <th>Test_accuracy</th>\n",
       "      <th>precision</th>\n",
       "      <th>recall</th>\n",
       "      <th>kappa</th>\n",
       "      <th>f1_score</th>\n",
       "      <th>roc_auc_score</th>\n",
       "    </tr>\n",
       "  </thead>\n",
       "  <tbody>\n",
       "    <tr>\n",
       "      <th>0</th>\n",
       "      <td>LogisticRegression</td>\n",
       "      <td>0.805213</td>\n",
       "      <td>0.813528</td>\n",
       "      <td>0.769592</td>\n",
       "      <td>0.652926</td>\n",
       "      <td>0.57118</td>\n",
       "      <td>0.706475</td>\n",
       "      <td>0.885363</td>\n",
       "    </tr>\n",
       "    <tr>\n",
       "      <th>1</th>\n",
       "      <td>DecisionTree</td>\n",
       "      <td>1.0</td>\n",
       "      <td>0.90128</td>\n",
       "      <td>0.84715</td>\n",
       "      <td>0.869681</td>\n",
       "      <td>0.782551</td>\n",
       "      <td>0.858268</td>\n",
       "      <td>0.893754</td>\n",
       "    </tr>\n",
       "    <tr>\n",
       "      <th>2</th>\n",
       "      <td>Decision Tree with Gridsearchcv</td>\n",
       "      <td>0.845189</td>\n",
       "      <td>0.835923</td>\n",
       "      <td>0.809449</td>\n",
       "      <td>0.683511</td>\n",
       "      <td>0.622308</td>\n",
       "      <td>0.741168</td>\n",
       "      <td>0.913781</td>\n",
       "    </tr>\n",
       "    <tr>\n",
       "      <th>3</th>\n",
       "      <td>Random Forest</td>\n",
       "      <td>1.0</td>\n",
       "      <td>0.925046</td>\n",
       "      <td>0.922414</td>\n",
       "      <td>0.853723</td>\n",
       "      <td>0.830855</td>\n",
       "      <td>0.88674</td>\n",
       "      <td>0.976776</td>\n",
       "    </tr>\n",
       "    <tr>\n",
       "      <th>4</th>\n",
       "      <td>K Nearest Neighbors</td>\n",
       "      <td>0.908289</td>\n",
       "      <td>0.867459</td>\n",
       "      <td>0.748922</td>\n",
       "      <td>0.924202</td>\n",
       "      <td>0.721717</td>\n",
       "      <td>0.827381</td>\n",
       "      <td>0.942305</td>\n",
       "    </tr>\n",
       "    <tr>\n",
       "      <th>5</th>\n",
       "      <td>GaussianNB</td>\n",
       "      <td>0.785224</td>\n",
       "      <td>0.803931</td>\n",
       "      <td>0.691124</td>\n",
       "      <td>0.776596</td>\n",
       "      <td>0.577822</td>\n",
       "      <td>0.731371</td>\n",
       "      <td>0.871094</td>\n",
       "    </tr>\n",
       "    <tr>\n",
       "      <th>6</th>\n",
       "      <td>BernoulliNB</td>\n",
       "      <td>0.675877</td>\n",
       "      <td>0.668647</td>\n",
       "      <td>0.535433</td>\n",
       "      <td>0.271277</td>\n",
       "      <td>0.167725</td>\n",
       "      <td>0.360106</td>\n",
       "      <td>0.695016</td>\n",
       "    </tr>\n",
       "    <tr>\n",
       "      <th>7</th>\n",
       "      <td>Bagging Classifier</td>\n",
       "      <td>0.994905</td>\n",
       "      <td>0.922303</td>\n",
       "      <td>0.929204</td>\n",
       "      <td>0.837766</td>\n",
       "      <td>0.823643</td>\n",
       "      <td>0.881119</td>\n",
       "      <td>0.962014</td>\n",
       "    </tr>\n",
       "    <tr>\n",
       "      <th>8</th>\n",
       "      <td>AdaBoost</td>\n",
       "      <td>0.870076</td>\n",
       "      <td>0.877971</td>\n",
       "      <td>0.863568</td>\n",
       "      <td>0.765957</td>\n",
       "      <td>0.722024</td>\n",
       "      <td>0.811839</td>\n",
       "      <td>0.943383</td>\n",
       "    </tr>\n",
       "    <tr>\n",
       "      <th>9</th>\n",
       "      <td>GradientBoosting</td>\n",
       "      <td>0.913972</td>\n",
       "      <td>0.896252</td>\n",
       "      <td>0.883212</td>\n",
       "      <td>0.804521</td>\n",
       "      <td>0.765045</td>\n",
       "      <td>0.842032</td>\n",
       "      <td>0.955976</td>\n",
       "    </tr>\n",
       "  </tbody>\n",
       "</table>\n",
       "</div>"
      ],
      "text/plain": [
       "                        Model_name Train_accuracy Test_accuracy precision  \\\n",
       "0               LogisticRegression       0.805213      0.813528  0.769592   \n",
       "1                     DecisionTree            1.0       0.90128   0.84715   \n",
       "2  Decision Tree with Gridsearchcv       0.845189      0.835923  0.809449   \n",
       "3                   Random Forest             1.0      0.925046  0.922414   \n",
       "4              K Nearest Neighbors       0.908289      0.867459  0.748922   \n",
       "5                       GaussianNB       0.785224      0.803931  0.691124   \n",
       "6                      BernoulliNB       0.675877      0.668647  0.535433   \n",
       "7               Bagging Classifier       0.994905      0.922303  0.929204   \n",
       "8                         AdaBoost       0.870076      0.877971  0.863568   \n",
       "9                 GradientBoosting       0.913972      0.896252  0.883212   \n",
       "\n",
       "     recall     kappa  f1_score roc_auc_score  \n",
       "0  0.652926   0.57118  0.706475      0.885363  \n",
       "1  0.869681  0.782551  0.858268      0.893754  \n",
       "2  0.683511  0.622308  0.741168      0.913781  \n",
       "3  0.853723  0.830855   0.88674      0.976776  \n",
       "4  0.924202  0.721717  0.827381      0.942305  \n",
       "5  0.776596  0.577822  0.731371      0.871094  \n",
       "6  0.271277  0.167725  0.360106      0.695016  \n",
       "7  0.837766  0.823643  0.881119      0.962014  \n",
       "8  0.765957  0.722024  0.811839      0.943383  \n",
       "9  0.804521  0.765045  0.842032      0.955976  "
      ]
     },
     "execution_count": 120,
     "metadata": {},
     "output_type": "execute_result"
    }
   ],
   "source": [
    "model_stats=pd.Series({'Model_name':'GradientBoosting',\n",
    "              'Train_accuracy':accuracy_score(ytrain,ypred_gb_train),\n",
    "              'Test_accuracy':accuracy_score(ytest,ypred_gb_test),\n",
    "               'precision':precision_score(ytest,ypred_gb_test),\n",
    "                'recall':recall_score(ytest,ypred_gb_test),\n",
    "                 'kappa':cohen_kappa_score(ytest,ypred_gb_test),\n",
    "                'f1_score':f1_score(ytest,ypred_gb_test),\n",
    "              'roc_auc_score':roc_auc_score(ytest,yprob_gb)})\n",
    "result=result.append(model_stats,ignore_index=True)\n",
    "result"
   ]
  },
  {
   "cell_type": "markdown",
   "id": "6c502729",
   "metadata": {},
   "source": [
    "### XGBoost"
   ]
  },
  {
   "cell_type": "code",
   "execution_count": 121,
   "id": "7ef772da",
   "metadata": {},
   "outputs": [],
   "source": [
    "from xgboost import XGBClassifier\n",
    "xg=XGBClassifier()\n",
    "xg_model=xg.fit(xtrain,ytrain)\n",
    "ypred_xg_train=xg_model.predict(xtrain)\n",
    "ypred_xg_test=xg_model.predict(xtest)\n",
    "yprob_xg=xg_model.predict_proba(xtest)[:,1]"
   ]
  },
  {
   "cell_type": "code",
   "execution_count": 122,
   "id": "fd7d6df0",
   "metadata": {},
   "outputs": [
    {
     "data": {
      "text/html": [
       "<div>\n",
       "<style scoped>\n",
       "    .dataframe tbody tr th:only-of-type {\n",
       "        vertical-align: middle;\n",
       "    }\n",
       "\n",
       "    .dataframe tbody tr th {\n",
       "        vertical-align: top;\n",
       "    }\n",
       "\n",
       "    .dataframe thead th {\n",
       "        text-align: right;\n",
       "    }\n",
       "</style>\n",
       "<table border=\"1\" class=\"dataframe\">\n",
       "  <thead>\n",
       "    <tr style=\"text-align: right;\">\n",
       "      <th></th>\n",
       "      <th>Model_name</th>\n",
       "      <th>Train_accuracy</th>\n",
       "      <th>Test_accuracy</th>\n",
       "      <th>precision</th>\n",
       "      <th>recall</th>\n",
       "      <th>kappa</th>\n",
       "      <th>f1_score</th>\n",
       "      <th>roc_auc_score</th>\n",
       "    </tr>\n",
       "  </thead>\n",
       "  <tbody>\n",
       "    <tr>\n",
       "      <th>0</th>\n",
       "      <td>LogisticRegression</td>\n",
       "      <td>0.805213</td>\n",
       "      <td>0.813528</td>\n",
       "      <td>0.769592</td>\n",
       "      <td>0.652926</td>\n",
       "      <td>0.57118</td>\n",
       "      <td>0.706475</td>\n",
       "      <td>0.885363</td>\n",
       "    </tr>\n",
       "    <tr>\n",
       "      <th>1</th>\n",
       "      <td>DecisionTree</td>\n",
       "      <td>1.0</td>\n",
       "      <td>0.90128</td>\n",
       "      <td>0.84715</td>\n",
       "      <td>0.869681</td>\n",
       "      <td>0.782551</td>\n",
       "      <td>0.858268</td>\n",
       "      <td>0.893754</td>\n",
       "    </tr>\n",
       "    <tr>\n",
       "      <th>2</th>\n",
       "      <td>Decision Tree with Gridsearchcv</td>\n",
       "      <td>0.845189</td>\n",
       "      <td>0.835923</td>\n",
       "      <td>0.809449</td>\n",
       "      <td>0.683511</td>\n",
       "      <td>0.622308</td>\n",
       "      <td>0.741168</td>\n",
       "      <td>0.913781</td>\n",
       "    </tr>\n",
       "    <tr>\n",
       "      <th>3</th>\n",
       "      <td>Random Forest</td>\n",
       "      <td>1.0</td>\n",
       "      <td>0.925046</td>\n",
       "      <td>0.922414</td>\n",
       "      <td>0.853723</td>\n",
       "      <td>0.830855</td>\n",
       "      <td>0.88674</td>\n",
       "      <td>0.976776</td>\n",
       "    </tr>\n",
       "    <tr>\n",
       "      <th>4</th>\n",
       "      <td>K Nearest Neighbors</td>\n",
       "      <td>0.908289</td>\n",
       "      <td>0.867459</td>\n",
       "      <td>0.748922</td>\n",
       "      <td>0.924202</td>\n",
       "      <td>0.721717</td>\n",
       "      <td>0.827381</td>\n",
       "      <td>0.942305</td>\n",
       "    </tr>\n",
       "    <tr>\n",
       "      <th>5</th>\n",
       "      <td>GaussianNB</td>\n",
       "      <td>0.785224</td>\n",
       "      <td>0.803931</td>\n",
       "      <td>0.691124</td>\n",
       "      <td>0.776596</td>\n",
       "      <td>0.577822</td>\n",
       "      <td>0.731371</td>\n",
       "      <td>0.871094</td>\n",
       "    </tr>\n",
       "    <tr>\n",
       "      <th>6</th>\n",
       "      <td>BernoulliNB</td>\n",
       "      <td>0.675877</td>\n",
       "      <td>0.668647</td>\n",
       "      <td>0.535433</td>\n",
       "      <td>0.271277</td>\n",
       "      <td>0.167725</td>\n",
       "      <td>0.360106</td>\n",
       "      <td>0.695016</td>\n",
       "    </tr>\n",
       "    <tr>\n",
       "      <th>7</th>\n",
       "      <td>Bagging Classifier</td>\n",
       "      <td>0.994905</td>\n",
       "      <td>0.922303</td>\n",
       "      <td>0.929204</td>\n",
       "      <td>0.837766</td>\n",
       "      <td>0.823643</td>\n",
       "      <td>0.881119</td>\n",
       "      <td>0.962014</td>\n",
       "    </tr>\n",
       "    <tr>\n",
       "      <th>8</th>\n",
       "      <td>AdaBoost</td>\n",
       "      <td>0.870076</td>\n",
       "      <td>0.877971</td>\n",
       "      <td>0.863568</td>\n",
       "      <td>0.765957</td>\n",
       "      <td>0.722024</td>\n",
       "      <td>0.811839</td>\n",
       "      <td>0.943383</td>\n",
       "    </tr>\n",
       "    <tr>\n",
       "      <th>9</th>\n",
       "      <td>GradientBoosting</td>\n",
       "      <td>0.913972</td>\n",
       "      <td>0.896252</td>\n",
       "      <td>0.883212</td>\n",
       "      <td>0.804521</td>\n",
       "      <td>0.765045</td>\n",
       "      <td>0.842032</td>\n",
       "      <td>0.955976</td>\n",
       "    </tr>\n",
       "    <tr>\n",
       "      <th>10</th>\n",
       "      <td>XGBoost</td>\n",
       "      <td>0.997061</td>\n",
       "      <td>0.940128</td>\n",
       "      <td>0.942939</td>\n",
       "      <td>0.878989</td>\n",
       "      <td>0.865107</td>\n",
       "      <td>0.909842</td>\n",
       "      <td>0.980441</td>\n",
       "    </tr>\n",
       "  </tbody>\n",
       "</table>\n",
       "</div>"
      ],
      "text/plain": [
       "                         Model_name Train_accuracy Test_accuracy precision  \\\n",
       "0                LogisticRegression       0.805213      0.813528  0.769592   \n",
       "1                      DecisionTree            1.0       0.90128   0.84715   \n",
       "2   Decision Tree with Gridsearchcv       0.845189      0.835923  0.809449   \n",
       "3                    Random Forest             1.0      0.925046  0.922414   \n",
       "4               K Nearest Neighbors       0.908289      0.867459  0.748922   \n",
       "5                        GaussianNB       0.785224      0.803931  0.691124   \n",
       "6                       BernoulliNB       0.675877      0.668647  0.535433   \n",
       "7                Bagging Classifier       0.994905      0.922303  0.929204   \n",
       "8                          AdaBoost       0.870076      0.877971  0.863568   \n",
       "9                  GradientBoosting       0.913972      0.896252  0.883212   \n",
       "10                          XGBoost       0.997061      0.940128  0.942939   \n",
       "\n",
       "      recall     kappa  f1_score roc_auc_score  \n",
       "0   0.652926   0.57118  0.706475      0.885363  \n",
       "1   0.869681  0.782551  0.858268      0.893754  \n",
       "2   0.683511  0.622308  0.741168      0.913781  \n",
       "3   0.853723  0.830855   0.88674      0.976776  \n",
       "4   0.924202  0.721717  0.827381      0.942305  \n",
       "5   0.776596  0.577822  0.731371      0.871094  \n",
       "6   0.271277  0.167725  0.360106      0.695016  \n",
       "7   0.837766  0.823643  0.881119      0.962014  \n",
       "8   0.765957  0.722024  0.811839      0.943383  \n",
       "9   0.804521  0.765045  0.842032      0.955976  \n",
       "10  0.878989  0.865107  0.909842      0.980441  "
      ]
     },
     "execution_count": 122,
     "metadata": {},
     "output_type": "execute_result"
    }
   ],
   "source": [
    "model_stats=pd.Series({'Model_name':'XGBoost',\n",
    "              'Train_accuracy':accuracy_score(ytrain,ypred_xg_train),\n",
    "              'Test_accuracy':accuracy_score(ytest,ypred_xg_test),\n",
    "               'precision':precision_score(ytest,ypred_xg_test),\n",
    "                'recall':recall_score(ytest,ypred_xg_test),\n",
    "                 'kappa':cohen_kappa_score(ytest,ypred_xg_test),\n",
    "                'f1_score':f1_score(ytest,ypred_xg_test),\n",
    "              'roc_auc_score':roc_auc_score(ytest,yprob_xg)})\n",
    "result=result.append(model_stats,ignore_index=True)\n",
    "result"
   ]
  }
 ],
 "metadata": {
  "kernelspec": {
   "display_name": "Python 3 (ipykernel)",
   "language": "python",
   "name": "python3"
  },
  "language_info": {
   "codemirror_mode": {
    "name": "ipython",
    "version": 3
   },
   "file_extension": ".py",
   "mimetype": "text/x-python",
   "name": "python",
   "nbconvert_exporter": "python",
   "pygments_lexer": "ipython3",
   "version": "3.9.12"
  }
 },
 "nbformat": 4,
 "nbformat_minor": 5
}
