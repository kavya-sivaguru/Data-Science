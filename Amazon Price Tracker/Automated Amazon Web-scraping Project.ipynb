{
 "cells": [
  {
   "cell_type": "code",
   "execution_count": 2,
   "id": "5be1563b",
   "metadata": {},
   "outputs": [],
   "source": [
    "# importing libraries\n",
    "\n",
    "from bs4 import BeautifulSoup\n",
    "import requests\n",
    "import time\n",
    "import datetime\n",
    "import smtplib\n",
    "\n",
    "import csv\n",
    "import pandas as pd"
   ]
  },
  {
   "cell_type": "code",
   "execution_count": 3,
   "id": "e0273e6d",
   "metadata": {},
   "outputs": [],
   "source": [
    "#Combine all of the above code into one function\n",
    "\n",
    "def checkPrice():\n",
    "    URL = 'https://www.amazon.in/Aaramkhor-Mathematics-T-Shirt-Wordplay-Regular/\\\n",
    "dp/B08NFMFB9F/ref=sr_1_3?keywords=data%2Banalyst%2Btshirt&qid=1683361339&sprefix=data%2\\\n",
    "Banalyst%2Bt%2Caps%2C271&sr=8-3'\n",
    "\n",
    "    headers = {\"User-Agent\": \"Mozilla/5.0 (Macintosh; Intel Mac OS X 10_15_7) AppleWebKit/537.36\\\n",
    "(KHTML, like Gecko) Chrome/112.0.0.0 Safari/537.36\"}\n",
    "\n",
    "    page = requests.get(URL, headers = headers, cookies={'__hs_opt_out': 'no'})\n",
    "\n",
    "    soup1 = BeautifulSoup(page.content, \"html.parser\")\n",
    "\n",
    "    soup2 = BeautifulSoup(soup1.prettify(), \"html.parser\")\n",
    "    \n",
    "    title = soup2.find(id=\"productTitle\").get_text().strip()\n",
    "    price = soup2.find('span', {'class':\"a-price-whole\"}).get_text().rstrip().lstrip()\n",
    "    rating = soup2.find('span', {'class': \"a-size-base\"}).get_text().strip()\n",
    "    no_of_ratings = soup2.find(id = \"acrCustomerReviewText\").get_text().strip().split(\" \")[0]\n",
    "    brand = soup2.find(id = \"bylineInfo\").get_text().strip().split(\" \")[-1]\n",
    "    today = datetime.date.today()\n",
    "    \n",
    "    header = [\"Brand\",\"Title\", \"Price\",\"Rating\",\"no_of_ratings\",\"Date\"]\n",
    "    data = [brand, title , price, rating, no_of_ratings, today]\n",
    "    \n",
    "    with open(\"AmazonData.csv\", \"a+\", newline=\"\", encoding=\"UTF8\") as f:\n",
    "        writer = csv.writer(f)\n",
    "        writer.writerow(data)\n",
    "\n",
    "    "
   ]
  },
  {
   "cell_type": "code",
   "execution_count": null,
   "id": "ceac88ec",
   "metadata": {},
   "outputs": [],
   "source": [
    "# Runs check_price after a set time and inputs data into your CSV\n",
    "\n",
    "while True:\n",
    "    checkPrice()\n",
    "    time.sleep(86400)"
   ]
  },
  {
   "cell_type": "code",
   "execution_count": 12,
   "id": "3f334d4d",
   "metadata": {},
   "outputs": [],
   "source": [
    "df = pd.read_csv(r\"/Users/kavya-sivaguru/Desktop/Data Science/PGP_DSE/Capstone_Project/Webscrapping/Amazon Price Tracker/AmazonData.csv\")\n"
   ]
  },
  {
   "cell_type": "code",
   "execution_count": 13,
   "id": "941a75db",
   "metadata": {},
   "outputs": [
    {
     "data": {
      "text/html": [
       "<div>\n",
       "<style scoped>\n",
       "    .dataframe tbody tr th:only-of-type {\n",
       "        vertical-align: middle;\n",
       "    }\n",
       "\n",
       "    .dataframe tbody tr th {\n",
       "        vertical-align: top;\n",
       "    }\n",
       "\n",
       "    .dataframe thead th {\n",
       "        text-align: right;\n",
       "    }\n",
       "</style>\n",
       "<table border=\"1\" class=\"dataframe\">\n",
       "  <thead>\n",
       "    <tr style=\"text-align: right;\">\n",
       "      <th></th>\n",
       "      <th>Brand</th>\n",
       "      <th>Title</th>\n",
       "      <th>Price</th>\n",
       "      <th>Rating</th>\n",
       "      <th>no_of_ratings</th>\n",
       "      <th>Date</th>\n",
       "    </tr>\n",
       "  </thead>\n",
       "  <tbody>\n",
       "    <tr>\n",
       "      <th>0</th>\n",
       "      <td>Aaramkhor</td>\n",
       "      <td>Aaramkhor Mathematics Maths T-Shirt for Men | ...</td>\n",
       "      <td>599</td>\n",
       "      <td>4.5</td>\n",
       "      <td>8</td>\n",
       "      <td>2023-05-06</td>\n",
       "    </tr>\n",
       "  </tbody>\n",
       "</table>\n",
       "</div>"
      ],
      "text/plain": [
       "       Brand                                              Title Price  Rating  \\\n",
       "0  Aaramkhor  Aaramkhor Mathematics Maths T-Shirt for Men | ...   599     4.5   \n",
       "\n",
       "   no_of_ratings        Date  \n",
       "0              8  2023-05-06  "
      ]
     },
     "execution_count": 13,
     "metadata": {},
     "output_type": "execute_result"
    }
   ],
   "source": [
    "df"
   ]
  }
 ],
 "metadata": {
  "kernelspec": {
   "display_name": "Python 3 (ipykernel)",
   "language": "python",
   "name": "python3"
  },
  "language_info": {
   "codemirror_mode": {
    "name": "ipython",
    "version": 3
   },
   "file_extension": ".py",
   "mimetype": "text/x-python",
   "name": "python",
   "nbconvert_exporter": "python",
   "pygments_lexer": "ipython3",
   "version": "3.9.12"
  }
 },
 "nbformat": 4,
 "nbformat_minor": 5
}
